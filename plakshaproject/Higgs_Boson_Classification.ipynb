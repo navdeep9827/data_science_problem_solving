{
 "cells": [
  {
   "cell_type": "code",
   "execution_count": 1,
   "id": "e1b15832",
   "metadata": {
    "_cell_guid": "b1076dfc-b9ad-4769-8c92-a6c4dae69d19",
    "_uuid": "8f2839f25d086af736a60e9eeb907d3b93b6e0e5",
    "execution": {
     "iopub.execute_input": "2023-01-09T18:57:58.733592Z",
     "iopub.status.busy": "2023-01-09T18:57:58.733070Z",
     "iopub.status.idle": "2023-01-09T18:57:58.755008Z",
     "shell.execute_reply": "2023-01-09T18:57:58.754032Z"
    },
    "papermill": {
     "duration": 0.042834,
     "end_time": "2023-01-09T18:57:58.760327",
     "exception": false,
     "start_time": "2023-01-09T18:57:58.717493",
     "status": "completed"
    },
    "tags": []
   },
   "outputs": [
    {
     "name": "stdout",
     "output_type": "stream",
     "text": [
      "/kaggle/input/plaksha-23-ml-1-final-project/sample_submission.csv\n",
      "/kaggle/input/plaksha-23-ml-1-final-project/train.csv\n",
      "/kaggle/input/plaksha-23-ml-1-final-project/test.csv\n"
     ]
    }
   ],
   "source": [
    "# This Python 3 environment comes with many helpful analytics libraries installed\n",
    "# It is defined by the kaggle/python Docker image: https://github.com/kaggle/docker-python\n",
    "# For example, here's several helpful packages to load\n",
    "\n",
    "import numpy as np # linear algebra\n",
    "import pandas as pd # data processing, CSV file I/O (e.g. pd.read_csv)\n",
    "\n",
    "# Input data files are available in the read-only \"../input/\" directory\n",
    "# For example, running this (by clicking run or pressing Shift+Enter) will list all files under the input directory\n",
    "\n",
    "import os\n",
    "for dirname, _, filenames in os.walk('/kaggle/input'):\n",
    "    for filename in filenames:\n",
    "        print(os.path.join(dirname, filename))\n",
    "\n",
    "# You can write up to 20GB to the current directory (/kaggle/working/) that gets preserved as output when you create a version using \"Save & Run All\" \n",
    "# You can also write temporary files to /kaggle/temp/, but they won't be saved outside of the current session"
   ]
  },
  {
   "cell_type": "markdown",
   "id": "372b4193",
   "metadata": {
    "papermill": {
     "duration": 0.014722,
     "end_time": "2023-01-09T18:57:58.788756",
     "exception": false,
     "start_time": "2023-01-09T18:57:58.774034",
     "status": "completed"
    },
    "tags": []
   },
   "source": [
    "# **Introduction**\n",
    "   This report presents the results of our analysis of the SUSY ATLAS dataset, which aims to distinguish between a signal process that produces supersymmetric particles and a background process that does not. The dataset was generated using Monte Carlo simulations and includes 18 features that describe various kinematic properties of the particles."
   ]
  },
  {
   "cell_type": "code",
   "execution_count": 2,
   "id": "d0d9e9a2",
   "metadata": {
    "execution": {
     "iopub.execute_input": "2023-01-09T18:57:58.818846Z",
     "iopub.status.busy": "2023-01-09T18:57:58.818320Z",
     "iopub.status.idle": "2023-01-09T18:58:00.016633Z",
     "shell.execute_reply": "2023-01-09T18:58:00.015511Z"
    },
    "papermill": {
     "duration": 1.211309,
     "end_time": "2023-01-09T18:58:00.019481",
     "exception": false,
     "start_time": "2023-01-09T18:57:58.808172",
     "status": "completed"
    },
    "tags": []
   },
   "outputs": [],
   "source": [
    "import numpy as np\n",
    "import pandas as pd\n",
    "import matplotlib.pyplot as plt\n",
    "import seaborn as sns\n",
    "from sklearn.model_selection import train_test_split\n",
    "\n",
    "pd.set_option('display.max_columns', None)\n",
    "pd.set_option('display.max_rows', None)"
   ]
  },
  {
   "cell_type": "code",
   "execution_count": 3,
   "id": "e288d36a",
   "metadata": {
    "execution": {
     "iopub.execute_input": "2023-01-09T18:58:00.039694Z",
     "iopub.status.busy": "2023-01-09T18:58:00.038856Z",
     "iopub.status.idle": "2023-01-09T18:58:41.374577Z",
     "shell.execute_reply": "2023-01-09T18:58:41.373425Z"
    },
    "papermill": {
     "duration": 41.355613,
     "end_time": "2023-01-09T18:58:41.385414",
     "exception": false,
     "start_time": "2023-01-09T18:58:00.029801",
     "status": "completed"
    },
    "tags": []
   },
   "outputs": [
    {
     "name": "stdout",
     "output_type": "stream",
     "text": [
      "(3500000, 19)\n",
      "(1500000, 18)\n"
     ]
    }
   ],
   "source": [
    "train_df = pd.read_csv(r'/kaggle/input/plaksha-23-ml-1-final-project/train.csv', index_col = 0)\n",
    "test_df = pd.read_csv(r'/kaggle/input/plaksha-23-ml-1-final-project/test.csv', index_col = 0)\n",
    "\n",
    "print(train_df.shape)\n",
    "print(test_df.shape)"
   ]
  },
  {
   "cell_type": "code",
   "execution_count": 4,
   "id": "37f0ce46",
   "metadata": {
    "execution": {
     "iopub.execute_input": "2023-01-09T18:58:41.404376Z",
     "iopub.status.busy": "2023-01-09T18:58:41.404041Z",
     "iopub.status.idle": "2023-01-09T18:58:41.432055Z",
     "shell.execute_reply": "2023-01-09T18:58:41.430871Z"
    },
    "papermill": {
     "duration": 0.040091,
     "end_time": "2023-01-09T18:58:41.434414",
     "exception": false,
     "start_time": "2023-01-09T18:58:41.394323",
     "status": "completed"
    },
    "tags": []
   },
   "outputs": [
    {
     "data": {
      "text/html": [
       "<div>\n",
       "<style scoped>\n",
       "    .dataframe tbody tr th:only-of-type {\n",
       "        vertical-align: middle;\n",
       "    }\n",
       "\n",
       "    .dataframe tbody tr th {\n",
       "        vertical-align: top;\n",
       "    }\n",
       "\n",
       "    .dataframe thead th {\n",
       "        text-align: right;\n",
       "    }\n",
       "</style>\n",
       "<table border=\"1\" class=\"dataframe\">\n",
       "  <thead>\n",
       "    <tr style=\"text-align: right;\">\n",
       "      <th></th>\n",
       "      <th>lepton_1_pT</th>\n",
       "      <th>lepton_1_eta</th>\n",
       "      <th>lepton_1_phi</th>\n",
       "      <th>lepton_2_pT</th>\n",
       "      <th>lepton_2_eta</th>\n",
       "      <th>lepton_2_phi</th>\n",
       "      <th>missing_energy_magnitude</th>\n",
       "      <th>missing_energy_phi</th>\n",
       "      <th>MET_rel</th>\n",
       "      <th>axial_MET</th>\n",
       "      <th>M_R</th>\n",
       "      <th>M_TR_2</th>\n",
       "      <th>R</th>\n",
       "      <th>MT2</th>\n",
       "      <th>S_R</th>\n",
       "      <th>M_Delta_R</th>\n",
       "      <th>dPhi_r_b</th>\n",
       "      <th>cos(theta_r1)</th>\n",
       "      <th>class</th>\n",
       "    </tr>\n",
       "  </thead>\n",
       "  <tbody>\n",
       "    <tr>\n",
       "      <th>0</th>\n",
       "      <td>0.841381</td>\n",
       "      <td>1.832647</td>\n",
       "      <td>-0.689286</td>\n",
       "      <td>0.781839</td>\n",
       "      <td>0.572864</td>\n",
       "      <td>1.577097</td>\n",
       "      <td>0.398978</td>\n",
       "      <td>-0.683847</td>\n",
       "      <td>0.001826</td>\n",
       "      <td>0.651397</td>\n",
       "      <td>0.865560</td>\n",
       "      <td>0.429017</td>\n",
       "      <td>0.439840</td>\n",
       "      <td>0.000000</td>\n",
       "      <td>0.796105</td>\n",
       "      <td>0.342497</td>\n",
       "      <td>0.461542</td>\n",
       "      <td>0.005710</td>\n",
       "      <td>0.0</td>\n",
       "    </tr>\n",
       "    <tr>\n",
       "      <th>1</th>\n",
       "      <td>0.663798</td>\n",
       "      <td>2.058290</td>\n",
       "      <td>0.681435</td>\n",
       "      <td>1.054036</td>\n",
       "      <td>0.575352</td>\n",
       "      <td>-1.001445</td>\n",
       "      <td>0.462154</td>\n",
       "      <td>-0.833411</td>\n",
       "      <td>0.199734</td>\n",
       "      <td>0.215158</td>\n",
       "      <td>0.949988</td>\n",
       "      <td>0.618046</td>\n",
       "      <td>0.577324</td>\n",
       "      <td>0.000000</td>\n",
       "      <td>0.962927</td>\n",
       "      <td>0.333800</td>\n",
       "      <td>1.455247</td>\n",
       "      <td>0.101246</td>\n",
       "      <td>0.0</td>\n",
       "    </tr>\n",
       "    <tr>\n",
       "      <th>2</th>\n",
       "      <td>1.792225</td>\n",
       "      <td>-1.099978</td>\n",
       "      <td>0.088109</td>\n",
       "      <td>0.573157</td>\n",
       "      <td>-0.472629</td>\n",
       "      <td>1.642084</td>\n",
       "      <td>1.203374</td>\n",
       "      <td>1.506731</td>\n",
       "      <td>0.457695</td>\n",
       "      <td>-0.640507</td>\n",
       "      <td>1.157024</td>\n",
       "      <td>1.585432</td>\n",
       "      <td>1.215963</td>\n",
       "      <td>0.000000</td>\n",
       "      <td>1.113292</td>\n",
       "      <td>0.645729</td>\n",
       "      <td>0.721326</td>\n",
       "      <td>0.613326</td>\n",
       "      <td>1.0</td>\n",
       "    </tr>\n",
       "    <tr>\n",
       "      <th>3</th>\n",
       "      <td>0.893018</td>\n",
       "      <td>0.297782</td>\n",
       "      <td>-1.274870</td>\n",
       "      <td>1.316164</td>\n",
       "      <td>1.593303</td>\n",
       "      <td>0.672115</td>\n",
       "      <td>0.307014</td>\n",
       "      <td>-1.189868</td>\n",
       "      <td>0.064561</td>\n",
       "      <td>0.430909</td>\n",
       "      <td>1.162625</td>\n",
       "      <td>0.548821</td>\n",
       "      <td>0.418897</td>\n",
       "      <td>0.163908</td>\n",
       "      <td>1.157707</td>\n",
       "      <td>0.298163</td>\n",
       "      <td>0.803802</td>\n",
       "      <td>0.038902</td>\n",
       "      <td>0.0</td>\n",
       "    </tr>\n",
       "    <tr>\n",
       "      <th>4</th>\n",
       "      <td>1.338997</td>\n",
       "      <td>0.350023</td>\n",
       "      <td>-1.518510</td>\n",
       "      <td>1.482963</td>\n",
       "      <td>-0.491807</td>\n",
       "      <td>0.340170</td>\n",
       "      <td>0.415071</td>\n",
       "      <td>-1.292034</td>\n",
       "      <td>0.240712</td>\n",
       "      <td>0.611775</td>\n",
       "      <td>1.307798</td>\n",
       "      <td>0.697804</td>\n",
       "      <td>0.473487</td>\n",
       "      <td>0.429977</td>\n",
       "      <td>1.287935</td>\n",
       "      <td>0.330327</td>\n",
       "      <td>0.717237</td>\n",
       "      <td>0.003147</td>\n",
       "      <td>1.0</td>\n",
       "    </tr>\n",
       "  </tbody>\n",
       "</table>\n",
       "</div>"
      ],
      "text/plain": [
       "   lepton_1_pT  lepton_1_eta  lepton_1_phi  lepton_2_pT  lepton_2_eta  \\\n",
       "0     0.841381      1.832647     -0.689286     0.781839      0.572864   \n",
       "1     0.663798      2.058290      0.681435     1.054036      0.575352   \n",
       "2     1.792225     -1.099978      0.088109     0.573157     -0.472629   \n",
       "3     0.893018      0.297782     -1.274870     1.316164      1.593303   \n",
       "4     1.338997      0.350023     -1.518510     1.482963     -0.491807   \n",
       "\n",
       "   lepton_2_phi  missing_energy_magnitude  missing_energy_phi   MET_rel  \\\n",
       "0      1.577097                  0.398978           -0.683847  0.001826   \n",
       "1     -1.001445                  0.462154           -0.833411  0.199734   \n",
       "2      1.642084                  1.203374            1.506731  0.457695   \n",
       "3      0.672115                  0.307014           -1.189868  0.064561   \n",
       "4      0.340170                  0.415071           -1.292034  0.240712   \n",
       "\n",
       "   axial_MET       M_R    M_TR_2         R       MT2       S_R  M_Delta_R  \\\n",
       "0   0.651397  0.865560  0.429017  0.439840  0.000000  0.796105   0.342497   \n",
       "1   0.215158  0.949988  0.618046  0.577324  0.000000  0.962927   0.333800   \n",
       "2  -0.640507  1.157024  1.585432  1.215963  0.000000  1.113292   0.645729   \n",
       "3   0.430909  1.162625  0.548821  0.418897  0.163908  1.157707   0.298163   \n",
       "4   0.611775  1.307798  0.697804  0.473487  0.429977  1.287935   0.330327   \n",
       "\n",
       "   dPhi_r_b  cos(theta_r1)  class  \n",
       "0  0.461542       0.005710    0.0  \n",
       "1  1.455247       0.101246    0.0  \n",
       "2  0.721326       0.613326    1.0  \n",
       "3  0.803802       0.038902    0.0  \n",
       "4  0.717237       0.003147    1.0  "
      ]
     },
     "execution_count": 4,
     "metadata": {},
     "output_type": "execute_result"
    }
   ],
   "source": [
    "train_df.head()"
   ]
  },
  {
   "cell_type": "code",
   "execution_count": 5,
   "id": "81150398",
   "metadata": {
    "execution": {
     "iopub.execute_input": "2023-01-09T18:58:41.456146Z",
     "iopub.status.busy": "2023-01-09T18:58:41.454387Z",
     "iopub.status.idle": "2023-01-09T18:58:41.477998Z",
     "shell.execute_reply": "2023-01-09T18:58:41.476874Z"
    },
    "papermill": {
     "duration": 0.036514,
     "end_time": "2023-01-09T18:58:41.480440",
     "exception": false,
     "start_time": "2023-01-09T18:58:41.443926",
     "status": "completed"
    },
    "tags": []
   },
   "outputs": [
    {
     "data": {
      "text/html": [
       "<div>\n",
       "<style scoped>\n",
       "    .dataframe tbody tr th:only-of-type {\n",
       "        vertical-align: middle;\n",
       "    }\n",
       "\n",
       "    .dataframe tbody tr th {\n",
       "        vertical-align: top;\n",
       "    }\n",
       "\n",
       "    .dataframe thead th {\n",
       "        text-align: right;\n",
       "    }\n",
       "</style>\n",
       "<table border=\"1\" class=\"dataframe\">\n",
       "  <thead>\n",
       "    <tr style=\"text-align: right;\">\n",
       "      <th></th>\n",
       "      <th>lepton_1_pT</th>\n",
       "      <th>lepton_1_eta</th>\n",
       "      <th>lepton_1_phi</th>\n",
       "      <th>lepton_2_pT</th>\n",
       "      <th>lepton_2_eta</th>\n",
       "      <th>lepton_2_phi</th>\n",
       "      <th>missing_energy_magnitude</th>\n",
       "      <th>missing_energy_phi</th>\n",
       "      <th>MET_rel</th>\n",
       "      <th>axial_MET</th>\n",
       "      <th>M_R</th>\n",
       "      <th>M_TR_2</th>\n",
       "      <th>R</th>\n",
       "      <th>MT2</th>\n",
       "      <th>S_R</th>\n",
       "      <th>M_Delta_R</th>\n",
       "      <th>dPhi_r_b</th>\n",
       "      <th>cos(theta_r1)</th>\n",
       "    </tr>\n",
       "  </thead>\n",
       "  <tbody>\n",
       "    <tr>\n",
       "      <th>0</th>\n",
       "      <td>1.667973</td>\n",
       "      <td>0.064191</td>\n",
       "      <td>-1.225171</td>\n",
       "      <td>0.506102</td>\n",
       "      <td>-0.338939</td>\n",
       "      <td>1.672543</td>\n",
       "      <td>3.475464</td>\n",
       "      <td>-1.219136</td>\n",
       "      <td>0.012955</td>\n",
       "      <td>3.775174</td>\n",
       "      <td>1.045977</td>\n",
       "      <td>0.568051</td>\n",
       "      <td>0.481928</td>\n",
       "      <td>0.000000</td>\n",
       "      <td>0.448410</td>\n",
       "      <td>0.205356</td>\n",
       "      <td>1.321893</td>\n",
       "      <td>0.377584</td>\n",
       "    </tr>\n",
       "    <tr>\n",
       "      <th>1</th>\n",
       "      <td>0.698336</td>\n",
       "      <td>1.689431</td>\n",
       "      <td>-1.134670</td>\n",
       "      <td>0.966594</td>\n",
       "      <td>1.503367</td>\n",
       "      <td>0.880949</td>\n",
       "      <td>0.242573</td>\n",
       "      <td>-0.228654</td>\n",
       "      <td>0.364132</td>\n",
       "      <td>0.109350</td>\n",
       "      <td>0.668554</td>\n",
       "      <td>0.489941</td>\n",
       "      <td>0.650313</td>\n",
       "      <td>0.683634</td>\n",
       "      <td>0.664825</td>\n",
       "      <td>0.510385</td>\n",
       "      <td>0.584092</td>\n",
       "      <td>0.031694</td>\n",
       "    </tr>\n",
       "    <tr>\n",
       "      <th>2</th>\n",
       "      <td>0.578286</td>\n",
       "      <td>-0.689652</td>\n",
       "      <td>-0.390094</td>\n",
       "      <td>0.480061</td>\n",
       "      <td>-0.632219</td>\n",
       "      <td>1.212005</td>\n",
       "      <td>0.640473</td>\n",
       "      <td>-1.622401</td>\n",
       "      <td>0.872160</td>\n",
       "      <td>-0.186169</td>\n",
       "      <td>0.451853</td>\n",
       "      <td>0.669288</td>\n",
       "      <td>1.314412</td>\n",
       "      <td>0.559444</td>\n",
       "      <td>0.491753</td>\n",
       "      <td>0.559017</td>\n",
       "      <td>1.286520</td>\n",
       "      <td>0.400292</td>\n",
       "    </tr>\n",
       "    <tr>\n",
       "      <th>3</th>\n",
       "      <td>0.798202</td>\n",
       "      <td>0.099358</td>\n",
       "      <td>-1.095839</td>\n",
       "      <td>0.531147</td>\n",
       "      <td>-0.962327</td>\n",
       "      <td>1.500362</td>\n",
       "      <td>1.273941</td>\n",
       "      <td>0.675408</td>\n",
       "      <td>1.803743</td>\n",
       "      <td>-0.845941</td>\n",
       "      <td>0.685836</td>\n",
       "      <td>1.234757</td>\n",
       "      <td>1.597630</td>\n",
       "      <td>1.864630</td>\n",
       "      <td>0.775854</td>\n",
       "      <td>1.556949</td>\n",
       "      <td>1.245781</td>\n",
       "      <td>0.538010</td>\n",
       "    </tr>\n",
       "    <tr>\n",
       "      <th>4</th>\n",
       "      <td>1.466649</td>\n",
       "      <td>0.115517</td>\n",
       "      <td>-1.036161</td>\n",
       "      <td>0.877247</td>\n",
       "      <td>0.690861</td>\n",
       "      <td>1.130069</td>\n",
       "      <td>0.890722</td>\n",
       "      <td>0.426515</td>\n",
       "      <td>1.283212</td>\n",
       "      <td>-0.563880</td>\n",
       "      <td>1.090046</td>\n",
       "      <td>1.327570</td>\n",
       "      <td>1.080762</td>\n",
       "      <td>1.588076</td>\n",
       "      <td>1.069615</td>\n",
       "      <td>1.258800</td>\n",
       "      <td>0.443045</td>\n",
       "      <td>0.415406</td>\n",
       "    </tr>\n",
       "  </tbody>\n",
       "</table>\n",
       "</div>"
      ],
      "text/plain": [
       "   lepton_1_pT  lepton_1_eta  lepton_1_phi  lepton_2_pT  lepton_2_eta  \\\n",
       "0     1.667973      0.064191     -1.225171     0.506102     -0.338939   \n",
       "1     0.698336      1.689431     -1.134670     0.966594      1.503367   \n",
       "2     0.578286     -0.689652     -0.390094     0.480061     -0.632219   \n",
       "3     0.798202      0.099358     -1.095839     0.531147     -0.962327   \n",
       "4     1.466649      0.115517     -1.036161     0.877247      0.690861   \n",
       "\n",
       "   lepton_2_phi  missing_energy_magnitude  missing_energy_phi   MET_rel  \\\n",
       "0      1.672543                  3.475464           -1.219136  0.012955   \n",
       "1      0.880949                  0.242573           -0.228654  0.364132   \n",
       "2      1.212005                  0.640473           -1.622401  0.872160   \n",
       "3      1.500362                  1.273941            0.675408  1.803743   \n",
       "4      1.130069                  0.890722            0.426515  1.283212   \n",
       "\n",
       "   axial_MET       M_R    M_TR_2         R       MT2       S_R  M_Delta_R  \\\n",
       "0   3.775174  1.045977  0.568051  0.481928  0.000000  0.448410   0.205356   \n",
       "1   0.109350  0.668554  0.489941  0.650313  0.683634  0.664825   0.510385   \n",
       "2  -0.186169  0.451853  0.669288  1.314412  0.559444  0.491753   0.559017   \n",
       "3  -0.845941  0.685836  1.234757  1.597630  1.864630  0.775854   1.556949   \n",
       "4  -0.563880  1.090046  1.327570  1.080762  1.588076  1.069615   1.258800   \n",
       "\n",
       "   dPhi_r_b  cos(theta_r1)  \n",
       "0  1.321893       0.377584  \n",
       "1  0.584092       0.031694  \n",
       "2  1.286520       0.400292  \n",
       "3  1.245781       0.538010  \n",
       "4  0.443045       0.415406  "
      ]
     },
     "execution_count": 5,
     "metadata": {},
     "output_type": "execute_result"
    }
   ],
   "source": [
    "test_df.head()"
   ]
  },
  {
   "cell_type": "code",
   "execution_count": 6,
   "id": "a823e8b3",
   "metadata": {
    "execution": {
     "iopub.execute_input": "2023-01-09T18:58:41.501901Z",
     "iopub.status.busy": "2023-01-09T18:58:41.501578Z",
     "iopub.status.idle": "2023-01-09T18:58:41.520912Z",
     "shell.execute_reply": "2023-01-09T18:58:41.518977Z"
    },
    "papermill": {
     "duration": 0.032835,
     "end_time": "2023-01-09T18:58:41.523551",
     "exception": false,
     "start_time": "2023-01-09T18:58:41.490716",
     "status": "completed"
    },
    "tags": []
   },
   "outputs": [
    {
     "name": "stdout",
     "output_type": "stream",
     "text": [
      "<class 'pandas.core.frame.DataFrame'>\n",
      "Int64Index: 3500000 entries, 0 to 3499999\n",
      "Data columns (total 19 columns):\n",
      " #   Column                    Dtype  \n",
      "---  ------                    -----  \n",
      " 0   lepton_1_pT               float64\n",
      " 1   lepton_1_eta              float64\n",
      " 2   lepton_1_phi              float64\n",
      " 3   lepton_2_pT               float64\n",
      " 4   lepton_2_eta              float64\n",
      " 5   lepton_2_phi              float64\n",
      " 6   missing_energy_magnitude  float64\n",
      " 7   missing_energy_phi        float64\n",
      " 8   MET_rel                   float64\n",
      " 9   axial_MET                 float64\n",
      " 10  M_R                       float64\n",
      " 11  M_TR_2                    float64\n",
      " 12  R                         float64\n",
      " 13  MT2                       float64\n",
      " 14  S_R                       float64\n",
      " 15  M_Delta_R                 float64\n",
      " 16  dPhi_r_b                  float64\n",
      " 17  cos(theta_r1)             float64\n",
      " 18  class                     float64\n",
      "dtypes: float64(19)\n",
      "memory usage: 534.1 MB\n"
     ]
    }
   ],
   "source": [
    "train_df.info()"
   ]
  },
  {
   "cell_type": "code",
   "execution_count": 7,
   "id": "f50e9f19",
   "metadata": {
    "execution": {
     "iopub.execute_input": "2023-01-09T18:58:41.545849Z",
     "iopub.status.busy": "2023-01-09T18:58:41.545527Z",
     "iopub.status.idle": "2023-01-09T18:58:44.638131Z",
     "shell.execute_reply": "2023-01-09T18:58:44.637164Z"
    },
    "papermill": {
     "duration": 3.106722,
     "end_time": "2023-01-09T18:58:44.640795",
     "exception": false,
     "start_time": "2023-01-09T18:58:41.534073",
     "status": "completed"
    },
    "tags": []
   },
   "outputs": [
    {
     "data": {
      "text/html": [
       "<style type=\"text/css\">\n",
       "#T_bd675_row0_col0, #T_bd675_row1_col0, #T_bd675_row1_col1, #T_bd675_row2_col0, #T_bd675_row2_col1, #T_bd675_row2_col4, #T_bd675_row3_col0, #T_bd675_row4_col0, #T_bd675_row4_col1, #T_bd675_row5_col0, #T_bd675_row5_col1, #T_bd675_row5_col4, #T_bd675_row6_col0, #T_bd675_row7_col0, #T_bd675_row7_col1, #T_bd675_row7_col4, #T_bd675_row8_col0, #T_bd675_row9_col0, #T_bd675_row9_col1, #T_bd675_row9_col3, #T_bd675_row9_col5, #T_bd675_row10_col0, #T_bd675_row11_col0, #T_bd675_row12_col0, #T_bd675_row13_col0, #T_bd675_row14_col0, #T_bd675_row15_col0, #T_bd675_row16_col0, #T_bd675_row17_col0, #T_bd675_row17_col2, #T_bd675_row17_col6, #T_bd675_row17_col7, #T_bd675_row18_col0, #T_bd675_row18_col7 {\n",
       "  background-color: #edb081;\n",
       "  color: #000000;\n",
       "}\n",
       "#T_bd675_row0_col1, #T_bd675_row1_col2, #T_bd675_row2_col2, #T_bd675_row3_col1, #T_bd675_row3_col3, #T_bd675_row3_col7, #T_bd675_row4_col2, #T_bd675_row5_col2, #T_bd675_row6_col1, #T_bd675_row7_col2, #T_bd675_row8_col1, #T_bd675_row9_col2, #T_bd675_row10_col1, #T_bd675_row11_col1, #T_bd675_row12_col1, #T_bd675_row13_col1, #T_bd675_row13_col6, #T_bd675_row14_col1, #T_bd675_row15_col1, #T_bd675_row16_col1, #T_bd675_row16_col4, #T_bd675_row16_col5 {\n",
       "  background-color: #4b2362;\n",
       "  color: #f1f1f1;\n",
       "}\n",
       "#T_bd675_row0_col2 {\n",
       "  background-color: #a8396e;\n",
       "  color: #f1f1f1;\n",
       "}\n",
       "#T_bd675_row0_col3, #T_bd675_row10_col3 {\n",
       "  background-color: #4d2463;\n",
       "  color: #f1f1f1;\n",
       "}\n",
       "#T_bd675_row0_col4 {\n",
       "  background-color: #5d2868;\n",
       "  color: #f1f1f1;\n",
       "}\n",
       "#T_bd675_row0_col5 {\n",
       "  background-color: #883171;\n",
       "  color: #f1f1f1;\n",
       "}\n",
       "#T_bd675_row0_col6 {\n",
       "  background-color: #963570;\n",
       "  color: #f1f1f1;\n",
       "}\n",
       "#T_bd675_row0_col7 {\n",
       "  background-color: #a7396e;\n",
       "  color: #f1f1f1;\n",
       "}\n",
       "#T_bd675_row1_col3, #T_bd675_row6_col2 {\n",
       "  background-color: #712c6e;\n",
       "  color: #f1f1f1;\n",
       "}\n",
       "#T_bd675_row1_col4 {\n",
       "  background-color: #eb9e76;\n",
       "  color: #000000;\n",
       "}\n",
       "#T_bd675_row1_col5, #T_bd675_row2_col5, #T_bd675_row4_col5, #T_bd675_row5_col5, #T_bd675_row18_col5 {\n",
       "  background-color: #ec9f76;\n",
       "  color: #000000;\n",
       "}\n",
       "#T_bd675_row1_col6 {\n",
       "  background-color: #de5d5c;\n",
       "  color: #f1f1f1;\n",
       "}\n",
       "#T_bd675_row1_col7, #T_bd675_row4_col7 {\n",
       "  background-color: #eca87c;\n",
       "  color: #000000;\n",
       "}\n",
       "#T_bd675_row2_col3, #T_bd675_row5_col3, #T_bd675_row7_col3, #T_bd675_row8_col2 {\n",
       "  background-color: #6b2b6c;\n",
       "  color: #f1f1f1;\n",
       "}\n",
       "#T_bd675_row2_col6, #T_bd675_row5_col6, #T_bd675_row7_col6 {\n",
       "  background-color: #d24b60;\n",
       "  color: #f1f1f1;\n",
       "}\n",
       "#T_bd675_row2_col7, #T_bd675_row5_col7, #T_bd675_row7_col7 {\n",
       "  background-color: #edab7e;\n",
       "  color: #000000;\n",
       "}\n",
       "#T_bd675_row3_col2 {\n",
       "  background-color: #b13c6c;\n",
       "  color: #f1f1f1;\n",
       "}\n",
       "#T_bd675_row3_col4, #T_bd675_row14_col4 {\n",
       "  background-color: #582766;\n",
       "  color: #f1f1f1;\n",
       "}\n",
       "#T_bd675_row3_col5, #T_bd675_row12_col6 {\n",
       "  background-color: #873171;\n",
       "  color: #f1f1f1;\n",
       "}\n",
       "#T_bd675_row3_col6 {\n",
       "  background-color: #9e3770;\n",
       "  color: #f1f1f1;\n",
       "}\n",
       "#T_bd675_row4_col3 {\n",
       "  background-color: #702c6e;\n",
       "  color: #f1f1f1;\n",
       "}\n",
       "#T_bd675_row4_col4 {\n",
       "  background-color: #eca077;\n",
       "  color: #000000;\n",
       "}\n",
       "#T_bd675_row4_col6, #T_bd675_row12_col2 {\n",
       "  background-color: #de5b5c;\n",
       "  color: #f1f1f1;\n",
       "}\n",
       "#T_bd675_row6_col3, #T_bd675_row8_col3, #T_bd675_row11_col3, #T_bd675_row12_col3, #T_bd675_row12_col4, #T_bd675_row13_col3, #T_bd675_row14_col3, #T_bd675_row15_col3, #T_bd675_row16_col3, #T_bd675_row17_col3, #T_bd675_row18_col3 {\n",
       "  background-color: #502564;\n",
       "  color: #f1f1f1;\n",
       "}\n",
       "#T_bd675_row6_col4, #T_bd675_row12_col5 {\n",
       "  background-color: #6a2b6c;\n",
       "  color: #f1f1f1;\n",
       "}\n",
       "#T_bd675_row6_col5 {\n",
       "  background-color: #8b3271;\n",
       "  color: #f1f1f1;\n",
       "}\n",
       "#T_bd675_row6_col6, #T_bd675_row10_col6, #T_bd675_row14_col6 {\n",
       "  background-color: #953470;\n",
       "  color: #f1f1f1;\n",
       "}\n",
       "#T_bd675_row6_col7, #T_bd675_row10_col7 {\n",
       "  background-color: #a3386f;\n",
       "  color: #f1f1f1;\n",
       "}\n",
       "#T_bd675_row7_col5 {\n",
       "  background-color: #eca178;\n",
       "  color: #000000;\n",
       "}\n",
       "#T_bd675_row8_col4 {\n",
       "  background-color: #7b2e70;\n",
       "  color: #f1f1f1;\n",
       "}\n",
       "#T_bd675_row8_col5 {\n",
       "  background-color: #863071;\n",
       "  color: #f1f1f1;\n",
       "}\n",
       "#T_bd675_row8_col6, #T_bd675_row11_col5 {\n",
       "  background-color: #762d6f;\n",
       "  color: #f1f1f1;\n",
       "}\n",
       "#T_bd675_row8_col7 {\n",
       "  background-color: #933471;\n",
       "  color: #f1f1f1;\n",
       "}\n",
       "#T_bd675_row9_col4 {\n",
       "  background-color: #e5745f;\n",
       "  color: #f1f1f1;\n",
       "}\n",
       "#T_bd675_row9_col6 {\n",
       "  background-color: #edad7f;\n",
       "  color: #000000;\n",
       "}\n",
       "#T_bd675_row9_col7 {\n",
       "  background-color: #af3b6d;\n",
       "  color: #f1f1f1;\n",
       "}\n",
       "#T_bd675_row10_col2 {\n",
       "  background-color: #b93e6a;\n",
       "  color: #f1f1f1;\n",
       "}\n",
       "#T_bd675_row10_col4 {\n",
       "  background-color: #592767;\n",
       "  color: #f1f1f1;\n",
       "}\n",
       "#T_bd675_row10_col5 {\n",
       "  background-color: #802f70;\n",
       "  color: #f1f1f1;\n",
       "}\n",
       "#T_bd675_row11_col2 {\n",
       "  background-color: #c74366;\n",
       "  color: #f1f1f1;\n",
       "}\n",
       "#T_bd675_row11_col4 {\n",
       "  background-color: #542665;\n",
       "  color: #f1f1f1;\n",
       "}\n",
       "#T_bd675_row11_col6 {\n",
       "  background-color: #943471;\n",
       "  color: #f1f1f1;\n",
       "}\n",
       "#T_bd675_row11_col7 {\n",
       "  background-color: #c84365;\n",
       "  color: #f1f1f1;\n",
       "}\n",
       "#T_bd675_row12_col7 {\n",
       "  background-color: #e88466;\n",
       "  color: #f1f1f1;\n",
       "}\n",
       "#T_bd675_row13_col2, #T_bd675_row15_col6 {\n",
       "  background-color: #752d6f;\n",
       "  color: #f1f1f1;\n",
       "}\n",
       "#T_bd675_row13_col4 {\n",
       "  background-color: #9a3670;\n",
       "  color: #f1f1f1;\n",
       "}\n",
       "#T_bd675_row13_col5 {\n",
       "  background-color: #722c6e;\n",
       "  color: #f1f1f1;\n",
       "}\n",
       "#T_bd675_row13_col7 {\n",
       "  background-color: #a6396e;\n",
       "  color: #f1f1f1;\n",
       "}\n",
       "#T_bd675_row14_col2 {\n",
       "  background-color: #bc3f69;\n",
       "  color: #f1f1f1;\n",
       "}\n",
       "#T_bd675_row14_col5 {\n",
       "  background-color: #7f2f70;\n",
       "  color: #f1f1f1;\n",
       "}\n",
       "#T_bd675_row14_col7 {\n",
       "  background-color: #a2386f;\n",
       "  color: #f1f1f1;\n",
       "}\n",
       "#T_bd675_row15_col2 {\n",
       "  background-color: #bb3f6a;\n",
       "  color: #f1f1f1;\n",
       "}\n",
       "#T_bd675_row15_col4 {\n",
       "  background-color: #642a6a;\n",
       "  color: #f1f1f1;\n",
       "}\n",
       "#T_bd675_row15_col5 {\n",
       "  background-color: #6f2c6d;\n",
       "  color: #f1f1f1;\n",
       "}\n",
       "#T_bd675_row15_col7 {\n",
       "  background-color: #cc4664;\n",
       "  color: #f1f1f1;\n",
       "}\n",
       "#T_bd675_row16_col2 {\n",
       "  background-color: #e2665c;\n",
       "  color: #f1f1f1;\n",
       "}\n",
       "#T_bd675_row16_col6 {\n",
       "  background-color: #772d6f;\n",
       "  color: #f1f1f1;\n",
       "}\n",
       "#T_bd675_row16_col7 {\n",
       "  background-color: #edac7e;\n",
       "  color: #000000;\n",
       "}\n",
       "#T_bd675_row17_col1 {\n",
       "  background-color: #e67861;\n",
       "  color: #f1f1f1;\n",
       "}\n",
       "#T_bd675_row17_col4 {\n",
       "  background-color: #a93a6e;\n",
       "  color: #f1f1f1;\n",
       "}\n",
       "#T_bd675_row17_col5 {\n",
       "  background-color: #e77c63;\n",
       "  color: #f1f1f1;\n",
       "}\n",
       "#T_bd675_row18_col1 {\n",
       "  background-color: #cb4564;\n",
       "  color: #f1f1f1;\n",
       "}\n",
       "#T_bd675_row18_col2 {\n",
       "  background-color: #da545d;\n",
       "  color: #f1f1f1;\n",
       "}\n",
       "#T_bd675_row18_col4 {\n",
       "  background-color: #b43d6b;\n",
       "  color: #f1f1f1;\n",
       "}\n",
       "#T_bd675_row18_col6 {\n",
       "  background-color: #bd3f69;\n",
       "  color: #f1f1f1;\n",
       "}\n",
       "</style>\n",
       "<table id=\"T_bd675_\">\n",
       "  <thead>\n",
       "    <tr>\n",
       "      <th class=\"blank level0\" >&nbsp;</th>\n",
       "      <th class=\"col_heading level0 col0\" >count</th>\n",
       "      <th class=\"col_heading level0 col1\" >mean</th>\n",
       "      <th class=\"col_heading level0 col2\" >std</th>\n",
       "      <th class=\"col_heading level0 col3\" >min</th>\n",
       "      <th class=\"col_heading level0 col4\" >25%</th>\n",
       "      <th class=\"col_heading level0 col5\" >50%</th>\n",
       "      <th class=\"col_heading level0 col6\" >75%</th>\n",
       "      <th class=\"col_heading level0 col7\" >max</th>\n",
       "    </tr>\n",
       "  </thead>\n",
       "  <tbody>\n",
       "    <tr>\n",
       "      <th id=\"T_bd675_level0_row0\" class=\"row_heading level0 row0\" >lepton_1_pT</th>\n",
       "      <td id=\"T_bd675_row0_col0\" class=\"data row0 col0\" >3500000.000000</td>\n",
       "      <td id=\"T_bd675_row0_col1\" class=\"data row0 col1\" >1.000232</td>\n",
       "      <td id=\"T_bd675_row0_col2\" class=\"data row0 col2\" >0.687396</td>\n",
       "      <td id=\"T_bd675_row0_col3\" class=\"data row0 col3\" >0.254882</td>\n",
       "      <td id=\"T_bd675_row0_col4\" class=\"data row0 col4\" >0.562500</td>\n",
       "      <td id=\"T_bd675_row0_col5\" class=\"data row0 col5\" >0.791359</td>\n",
       "      <td id=\"T_bd675_row0_col6\" class=\"data row0 col6\" >1.204264</td>\n",
       "      <td id=\"T_bd675_row0_col7\" class=\"data row0 col7\" >20.553450</td>\n",
       "    </tr>\n",
       "    <tr>\n",
       "      <th id=\"T_bd675_level0_row1\" class=\"row_heading level0 row1\" >lepton_1_eta</th>\n",
       "      <td id=\"T_bd675_row1_col0\" class=\"data row1 col0\" >3500000.000000</td>\n",
       "      <td id=\"T_bd675_row1_col1\" class=\"data row1 col1\" >0.000360</td>\n",
       "      <td id=\"T_bd675_row1_col2\" class=\"data row1 col2\" >1.003109</td>\n",
       "      <td id=\"T_bd675_row1_col3\" class=\"data row1 col3\" >-2.102919</td>\n",
       "      <td id=\"T_bd675_row1_col4\" class=\"data row1 col4\" >-0.756964</td>\n",
       "      <td id=\"T_bd675_row1_col5\" class=\"data row1 col5\" >0.000614</td>\n",
       "      <td id=\"T_bd675_row1_col6\" class=\"data row1 col6\" >0.758111</td>\n",
       "      <td id=\"T_bd675_row1_col7\" class=\"data row1 col7\" >2.101605</td>\n",
       "    </tr>\n",
       "    <tr>\n",
       "      <th id=\"T_bd675_level0_row2\" class=\"row_heading level0 row2\" >lepton_1_phi</th>\n",
       "      <td id=\"T_bd675_row2_col0\" class=\"data row2 col0\" >3500000.000000</td>\n",
       "      <td id=\"T_bd675_row2_col1\" class=\"data row2 col1\" >0.000341</td>\n",
       "      <td id=\"T_bd675_row2_col2\" class=\"data row2 col2\" >1.001971</td>\n",
       "      <td id=\"T_bd675_row2_col3\" class=\"data row2 col3\" >-1.734789</td>\n",
       "      <td id=\"T_bd675_row2_col4\" class=\"data row2 col4\" >-0.867324</td>\n",
       "      <td id=\"T_bd675_row2_col5\" class=\"data row2 col5\" >-0.000300</td>\n",
       "      <td id=\"T_bd675_row2_col6\" class=\"data row2 col6\" >0.868147</td>\n",
       "      <td id=\"T_bd675_row2_col7\" class=\"data row2 col7\" >1.734839</td>\n",
       "    </tr>\n",
       "    <tr>\n",
       "      <th id=\"T_bd675_level0_row3\" class=\"row_heading level0 row3\" >lepton_2_pT</th>\n",
       "      <td id=\"T_bd675_row3_col0\" class=\"data row3 col0\" >3500000.000000</td>\n",
       "      <td id=\"T_bd675_row3_col1\" class=\"data row3 col1\" >0.999238</td>\n",
       "      <td id=\"T_bd675_row3_col2\" class=\"data row3 col2\" >0.653735</td>\n",
       "      <td id=\"T_bd675_row3_col3\" class=\"data row3 col3\" >0.428586</td>\n",
       "      <td id=\"T_bd675_row3_col4\" class=\"data row3 col4\" >0.596975</td>\n",
       "      <td id=\"T_bd675_row3_col5\" class=\"data row3 col5\" >0.799733</td>\n",
       "      <td id=\"T_bd675_row3_col6\" class=\"data row3 col6\" >1.161961</td>\n",
       "      <td id=\"T_bd675_row3_col7\" class=\"data row3 col7\" >33.035622</td>\n",
       "    </tr>\n",
       "    <tr>\n",
       "      <th id=\"T_bd675_level0_row4\" class=\"row_heading level0 row4\" >lepton_2_eta</th>\n",
       "      <td id=\"T_bd675_row4_col0\" class=\"data row4 col0\" >3500000.000000</td>\n",
       "      <td id=\"T_bd675_row4_col1\" class=\"data row4 col1\" >0.000355</td>\n",
       "      <td id=\"T_bd675_row4_col2\" class=\"data row4 col2\" >1.002817</td>\n",
       "      <td id=\"T_bd675_row4_col3\" class=\"data row4 col3\" >-2.059306</td>\n",
       "      <td id=\"T_bd675_row4_col4\" class=\"data row4 col4\" >-0.769346</td>\n",
       "      <td id=\"T_bd675_row4_col5\" class=\"data row4 col5\" >0.000113</td>\n",
       "      <td id=\"T_bd675_row4_col6\" class=\"data row4 col6\" >0.769828</td>\n",
       "      <td id=\"T_bd675_row4_col7\" class=\"data row4 col7\" >2.059721</td>\n",
       "    </tr>\n",
       "    <tr>\n",
       "      <th id=\"T_bd675_level0_row5\" class=\"row_heading level0 row5\" >lepton_2_phi</th>\n",
       "      <td id=\"T_bd675_row5_col0\" class=\"data row5 col0\" >3500000.000000</td>\n",
       "      <td id=\"T_bd675_row5_col1\" class=\"data row5 col1\" >-0.000261</td>\n",
       "      <td id=\"T_bd675_row5_col2\" class=\"data row5 col2\" >1.001447</td>\n",
       "      <td id=\"T_bd675_row5_col3\" class=\"data row5 col3\" >-1.734202</td>\n",
       "      <td id=\"T_bd675_row5_col4\" class=\"data row5 col4\" >-0.868087</td>\n",
       "      <td id=\"T_bd675_row5_col5\" class=\"data row5 col5\" >-0.000350</td>\n",
       "      <td id=\"T_bd675_row5_col6\" class=\"data row5 col6\" >0.867010</td>\n",
       "      <td id=\"T_bd675_row5_col7\" class=\"data row5 col7\" >1.734686</td>\n",
       "    </tr>\n",
       "    <tr>\n",
       "      <th id=\"T_bd675_level0_row6\" class=\"row_heading level0 row6\" >missing_energy_magnitude</th>\n",
       "      <td id=\"T_bd675_row6_col0\" class=\"data row6 col0\" >3500000.000000</td>\n",
       "      <td id=\"T_bd675_row6_col1\" class=\"data row6 col1\" >0.999454</td>\n",
       "      <td id=\"T_bd675_row6_col2\" class=\"data row6 col2\" >0.872402</td>\n",
       "      <td id=\"T_bd675_row6_col3\" class=\"data row6 col3\" >0.000720</td>\n",
       "      <td id=\"T_bd675_row6_col4\" class=\"data row6 col4\" >0.478180</td>\n",
       "      <td id=\"T_bd675_row6_col5\" class=\"data row6 col5\" >0.773477</td>\n",
       "      <td id=\"T_bd675_row6_col6\" class=\"data row6 col6\" >1.206897</td>\n",
       "      <td id=\"T_bd675_row6_col7\" class=\"data row6 col7\" >21.068876</td>\n",
       "    </tr>\n",
       "    <tr>\n",
       "      <th id=\"T_bd675_level0_row7\" class=\"row_heading level0 row7\" >missing_energy_phi</th>\n",
       "      <td id=\"T_bd675_row7_col0\" class=\"data row7 col0\" >3500000.000000</td>\n",
       "      <td id=\"T_bd675_row7_col1\" class=\"data row7 col1\" >-0.000494</td>\n",
       "      <td id=\"T_bd675_row7_col2\" class=\"data row7 col2\" >1.001655</td>\n",
       "      <td id=\"T_bd675_row7_col3\" class=\"data row7 col3\" >-1.727112</td>\n",
       "      <td id=\"T_bd675_row7_col4\" class=\"data row7 col4\" >-0.866344</td>\n",
       "      <td id=\"T_bd675_row7_col5\" class=\"data row7 col5\" >-0.010388</td>\n",
       "      <td id=\"T_bd675_row7_col6\" class=\"data row7 col6\" >0.868188</td>\n",
       "      <td id=\"T_bd675_row7_col7\" class=\"data row7 col7\" >1.740689</td>\n",
       "    </tr>\n",
       "    <tr>\n",
       "      <th id=\"T_bd675_level0_row8\" class=\"row_heading level0 row8\" >MET_rel</th>\n",
       "      <td id=\"T_bd675_row8_col0\" class=\"data row8 col0\" >3500000.000000</td>\n",
       "      <td id=\"T_bd675_row8_col1\" class=\"data row8 col1\" >1.000944</td>\n",
       "      <td id=\"T_bd675_row8_col2\" class=\"data row8 col2\" >0.889757</td>\n",
       "      <td id=\"T_bd675_row8_col3\" class=\"data row8 col3\" >0.000000</td>\n",
       "      <td id=\"T_bd675_row8_col4\" class=\"data row8 col4\" >0.368961</td>\n",
       "      <td id=\"T_bd675_row8_col5\" class=\"data row8 col5\" >0.801712</td>\n",
       "      <td id=\"T_bd675_row8_col6\" class=\"data row8 col6\" >1.374708</td>\n",
       "      <td id=\"T_bd675_row8_col7\" class=\"data row8 col7\" >23.386438</td>\n",
       "    </tr>\n",
       "    <tr>\n",
       "      <th id=\"T_bd675_level0_row9\" class=\"row_heading level0 row9\" >axial_MET</th>\n",
       "      <td id=\"T_bd675_row9_col0\" class=\"data row9 col0\" >3500000.000000</td>\n",
       "      <td id=\"T_bd675_row9_col1\" class=\"data row9 col1\" >-0.000082</td>\n",
       "      <td id=\"T_bd675_row9_col2\" class=\"data row9 col2\" >1.000707</td>\n",
       "      <td id=\"T_bd675_row9_col3\" class=\"data row9 col3\" >-15.335089</td>\n",
       "      <td id=\"T_bd675_row9_col4\" class=\"data row9 col4\" >-0.492089</td>\n",
       "      <td id=\"T_bd675_row9_col5\" class=\"data row9 col5\" >-0.080027</td>\n",
       "      <td id=\"T_bd675_row9_col6\" class=\"data row9 col6\" >0.348933</td>\n",
       "      <td id=\"T_bd675_row9_col7\" class=\"data row9 col7\" >19.592196</td>\n",
       "    </tr>\n",
       "    <tr>\n",
       "      <th id=\"T_bd675_level0_row10\" class=\"row_heading level0 row10\" >M_R</th>\n",
       "      <td id=\"T_bd675_row10_col0\" class=\"data row10 col0\" >3500000.000000</td>\n",
       "      <td id=\"T_bd675_row10_col1\" class=\"data row10 col1\" >1.000253</td>\n",
       "      <td id=\"T_bd675_row10_col2\" class=\"data row10 col2\" >0.628660</td>\n",
       "      <td id=\"T_bd675_row10_col3\" class=\"data row10 col3\" >0.268064</td>\n",
       "      <td id=\"T_bd675_row10_col4\" class=\"data row10 col4\" >0.588310</td>\n",
       "      <td id=\"T_bd675_row10_col5\" class=\"data row10 col5\" >0.828498</td>\n",
       "      <td id=\"T_bd675_row10_col6\" class=\"data row10 col6\" >1.210956</td>\n",
       "      <td id=\"T_bd675_row10_col7\" class=\"data row10 col7\" >21.075718</td>\n",
       "    </tr>\n",
       "    <tr>\n",
       "      <th id=\"T_bd675_level0_row11\" class=\"row_heading level0 row11\" >M_TR_2</th>\n",
       "      <td id=\"T_bd675_row11_col0\" class=\"data row11 col0\" >3500000.000000</td>\n",
       "      <td id=\"T_bd675_row11_col1\" class=\"data row11 col1\" >0.999617</td>\n",
       "      <td id=\"T_bd675_row11_col2\" class=\"data row11 col2\" >0.583900</td>\n",
       "      <td id=\"T_bd675_row11_col3\" class=\"data row11 col3\" >0.002427</td>\n",
       "      <td id=\"T_bd675_row11_col4\" class=\"data row11 col4\" >0.622210</td>\n",
       "      <td id=\"T_bd675_row11_col5\" class=\"data row11 col5\" >0.877825</td>\n",
       "      <td id=\"T_bd675_row11_col6\" class=\"data row11 col6\" >1.219851</td>\n",
       "      <td id=\"T_bd675_row11_col7\" class=\"data row11 col7\" >16.166821</td>\n",
       "    </tr>\n",
       "    <tr>\n",
       "      <th id=\"T_bd675_level0_row12\" class=\"row_heading level0 row12\" >R</th>\n",
       "      <td id=\"T_bd675_row12_col0\" class=\"data row12 col0\" >3500000.000000</td>\n",
       "      <td id=\"T_bd675_row12_col1\" class=\"data row12 col1\" >0.999816</td>\n",
       "      <td id=\"T_bd675_row12_col2\" class=\"data row12 col2\" >0.471150</td>\n",
       "      <td id=\"T_bd675_row12_col3\" class=\"data row12 col3\" >0.004528</td>\n",
       "      <td id=\"T_bd675_row12_col4\" class=\"data row12 col4\" >0.650316</td>\n",
       "      <td id=\"T_bd675_row12_col5\" class=\"data row12 col5\" >0.934127</td>\n",
       "      <td id=\"T_bd675_row12_col6\" class=\"data row12 col6\" >1.283126</td>\n",
       "      <td id=\"T_bd675_row12_col7\" class=\"data row12 col7\" >6.731210</td>\n",
       "    </tr>\n",
       "    <tr>\n",
       "      <th id=\"T_bd675_level0_row13\" class=\"row_heading level0 row13\" >MT2</th>\n",
       "      <td id=\"T_bd675_row13_col0\" class=\"data row13 col0\" >3500000.000000</td>\n",
       "      <td id=\"T_bd675_row13_col1\" class=\"data row13 col1\" >1.000160</td>\n",
       "      <td id=\"T_bd675_row13_col2\" class=\"data row13 col2\" >0.859032</td>\n",
       "      <td id=\"T_bd675_row13_col3\" class=\"data row13 col3\" >0.000000</td>\n",
       "      <td id=\"T_bd675_row13_col4\" class=\"data row13 col4\" >0.170810</td>\n",
       "      <td id=\"T_bd675_row13_col5\" class=\"data row13 col5\" >0.901444</td>\n",
       "      <td id=\"T_bd675_row13_col6\" class=\"data row13 col6\" >1.612343</td>\n",
       "      <td id=\"T_bd675_row13_col7\" class=\"data row13 col7\" >20.686245</td>\n",
       "    </tr>\n",
       "    <tr>\n",
       "      <th id=\"T_bd675_level0_row14\" class=\"row_heading level0 row14\" >S_R</th>\n",
       "      <td id=\"T_bd675_row14_col0\" class=\"data row14 col0\" >3500000.000000</td>\n",
       "      <td id=\"T_bd675_row14_col1\" class=\"data row14 col1\" >0.999967</td>\n",
       "      <td id=\"T_bd675_row14_col2\" class=\"data row14 col2\" >0.620518</td>\n",
       "      <td id=\"T_bd675_row14_col3\" class=\"data row14 col3\" >0.027341</td>\n",
       "      <td id=\"T_bd675_row14_col4\" class=\"data row14 col4\" >0.598461</td>\n",
       "      <td id=\"T_bd675_row14_col5\" class=\"data row14 col5\" >0.835370</td>\n",
       "      <td id=\"T_bd675_row14_col6\" class=\"data row14 col6\" >1.207777</td>\n",
       "      <td id=\"T_bd675_row14_col7\" class=\"data row14 col7\" >21.152262</td>\n",
       "    </tr>\n",
       "    <tr>\n",
       "      <th id=\"T_bd675_level0_row15\" class=\"row_heading level0 row15\" >M_Delta_R</th>\n",
       "      <td id=\"T_bd675_row15_col0\" class=\"data row15 col0\" >3500000.000000</td>\n",
       "      <td id=\"T_bd675_row15_col1\" class=\"data row15 col1\" >0.999797</td>\n",
       "      <td id=\"T_bd675_row15_col2\" class=\"data row15 col2\" >0.623586</td>\n",
       "      <td id=\"T_bd675_row15_col3\" class=\"data row15 col3\" >0.004453</td>\n",
       "      <td id=\"T_bd675_row15_col4\" class=\"data row15 col4\" >0.513453</td>\n",
       "      <td id=\"T_bd675_row15_col5\" class=\"data row15 col5\" >0.913731</td>\n",
       "      <td id=\"T_bd675_row15_col6\" class=\"data row15 col6\" >1.383827</td>\n",
       "      <td id=\"T_bd675_row15_col7\" class=\"data row15 col7\" >15.613705</td>\n",
       "    </tr>\n",
       "    <tr>\n",
       "      <th id=\"T_bd675_level0_row16\" class=\"row_heading level0 row16\" >dPhi_r_b</th>\n",
       "      <td id=\"T_bd675_row16_col0\" class=\"data row16 col0\" >3500000.000000</td>\n",
       "      <td id=\"T_bd675_row16_col1\" class=\"data row16 col1\" >0.999238</td>\n",
       "      <td id=\"T_bd675_row16_col2\" class=\"data row16 col2\" >0.436137</td>\n",
       "      <td id=\"T_bd675_row16_col3\" class=\"data row16 col3\" >0.000000</td>\n",
       "      <td id=\"T_bd675_row16_col4\" class=\"data row16 col4\" >0.687437</td>\n",
       "      <td id=\"T_bd675_row16_col5\" class=\"data row16 col5\" >1.094097</td>\n",
       "      <td id=\"T_bd675_row16_col6\" class=\"data row16 col6\" >1.369023</td>\n",
       "      <td id=\"T_bd675_row16_col7\" class=\"data row16 col7\" >1.591660</td>\n",
       "    </tr>\n",
       "    <tr>\n",
       "      <th id=\"T_bd675_level0_row17\" class=\"row_heading level0 row17\" >cos(theta_r1)</th>\n",
       "      <td id=\"T_bd675_row17_col0\" class=\"data row17 col0\" >3500000.000000</td>\n",
       "      <td id=\"T_bd675_row17_col1\" class=\"data row17 col1\" >0.224865</td>\n",
       "      <td id=\"T_bd675_row17_col2\" class=\"data row17 col2\" >0.197005</td>\n",
       "      <td id=\"T_bd675_row17_col3\" class=\"data row17 col3\" >0.000000</td>\n",
       "      <td id=\"T_bd675_row17_col4\" class=\"data row17 col4\" >0.069101</td>\n",
       "      <td id=\"T_bd675_row17_col5\" class=\"data row17 col5\" >0.167168</td>\n",
       "      <td id=\"T_bd675_row17_col6\" class=\"data row17 col6\" >0.330148</td>\n",
       "      <td id=\"T_bd675_row17_col7\" class=\"data row17 col7\" >1.000000</td>\n",
       "    </tr>\n",
       "    <tr>\n",
       "      <th id=\"T_bd675_level0_row18\" class=\"row_heading level0 row18\" >class</th>\n",
       "      <td id=\"T_bd675_row18_col0\" class=\"data row18 col0\" >3500000.000000</td>\n",
       "      <td id=\"T_bd675_row18_col1\" class=\"data row18 col1\" >0.457237</td>\n",
       "      <td id=\"T_bd675_row18_col2\" class=\"data row18 col2\" >0.498168</td>\n",
       "      <td id=\"T_bd675_row18_col3\" class=\"data row18 col3\" >0.000000</td>\n",
       "      <td id=\"T_bd675_row18_col4\" class=\"data row18 col4\" >0.000000</td>\n",
       "      <td id=\"T_bd675_row18_col5\" class=\"data row18 col5\" >0.000000</td>\n",
       "      <td id=\"T_bd675_row18_col6\" class=\"data row18 col6\" >1.000000</td>\n",
       "      <td id=\"T_bd675_row18_col7\" class=\"data row18 col7\" >1.000000</td>\n",
       "    </tr>\n",
       "  </tbody>\n",
       "</table>\n"
      ],
      "text/plain": [
       "<pandas.io.formats.style.Styler at 0x7ff23e635550>"
      ]
     },
     "execution_count": 7,
     "metadata": {},
     "output_type": "execute_result"
    }
   ],
   "source": [
    "train_df.describe().T.style.background_gradient(cmap = \"flare\")"
   ]
  },
  {
   "cell_type": "markdown",
   "id": "bae0a1f8",
   "metadata": {
    "papermill": {
     "duration": 0.009954,
     "end_time": "2023-01-09T18:58:44.661941",
     "exception": false,
     "start_time": "2023-01-09T18:58:44.651987",
     "status": "completed"
    },
    "tags": []
   },
   "source": [
    "# Data Exploration\n",
    "We first loaded the data into a Pandas dataframe and explored its basic properties. We found that the dataset consists of 3.5 million rows and 18 columns, with the target column ('class') indicating whether each row represents a signal or a background event. The other columns ('lepton_1_pT', 'lepton_1_eta', 'lepton_1_phi', 'lepton_2_pT', 'lepton_2_eta', 'lepton_2_phi', 'missing_energy_magnitude', 'missing_energy_phi', 'MET_rel', 'axial_MET', 'M_R', 'M_TR_2', 'R', 'MT2', 'S_R', 'M_Delta_R', 'dPhi_r_b', 'cos(theta_r1)') contain various kinematic properties of the particles.\n",
    "\n",
    "We then plotted histograms for each column to visualize the distribution of values. We observed that most of the columns have skewed distributions, with some having outliers. We also plotted scatter plots for pairs of columns to check for any correlations between the features."
   ]
  },
  {
   "cell_type": "code",
   "execution_count": 8,
   "id": "2fe8cbaf",
   "metadata": {
    "execution": {
     "iopub.execute_input": "2023-01-09T18:58:44.682936Z",
     "iopub.status.busy": "2023-01-09T18:58:44.682592Z",
     "iopub.status.idle": "2023-01-09T18:58:49.426860Z",
     "shell.execute_reply": "2023-01-09T18:58:49.425866Z"
    },
    "papermill": {
     "duration": 4.757522,
     "end_time": "2023-01-09T18:58:49.429102",
     "exception": false,
     "start_time": "2023-01-09T18:58:44.671580",
     "status": "completed"
    },
    "tags": []
   },
   "outputs": [
    {
     "data": {
      "image/png": "[encoded data removed]",
      "text/plain": [
       "<Figure size 1152x1008 with 20 Axes>"
      ]
     },
     "metadata": {
      "needs_background": "light"
     },
     "output_type": "display_data"
    }
   ],
   "source": [
    "train_df.hist(bins=15, figsize=(16,14), color='skyblue');"
   ]
  },
  {
   "cell_type": "markdown",
   "id": "9b284067",
   "metadata": {
    "papermill": {
     "duration": 0.010577,
     "end_time": "2023-01-09T18:58:49.450736",
     "exception": false,
     "start_time": "2023-01-09T18:58:49.440159",
     "status": "completed"
    },
    "tags": []
   },
   "source": [
    "## Here is a brief description of each of the columns in the dataset:\n",
    "\n",
    "1. lepton_1_pT: This is the transverse momentum of the first lepton, which is a measure of the lepton's momentum perpendicular to the direction of the particle accelerator. It is typically expressed in GeV (gigaelectron volts).\n",
    "\n",
    "2. lepton_1_eta: This is the pseudorapidity of the first lepton, which is a measure of the lepton's angle with respect to the beam axis. It is typically expressed in units of radians.\n",
    "\n",
    "3. lepton_1_phi: This is the azimuthal angle of the first lepton, which is a measure of the lepton's angle around the beam axis. It is typically expressed in units of radians.\n",
    "\n",
    "4. lepton_2_pT: This is the transverse momentum of the second lepton, which is a measure of the lepton's momentum perpendicular to the direction of the particle accelerator. It is typically expressed in GeV.\n",
    "\n",
    "5. lepton_2_eta: This is the pseudorapidity of the second lepton, which is a measure of the lepton's angle with respect to the beam axis. It is typically expressed in units of radians.\n",
    "\n",
    "6. lepton_2_phi: This is the azimuthal angle of the second lepton, which is a measure of the lepton's angle around the beam axis. It is typically expressed in units of radians.\n",
    "\n",
    "7. missing_energy_magnitude: This is the magnitude of the missing energy in the event, which is a measure of the energy that is not detected by the particle detectors. It is typically expressed in GeV.\n",
    "\n",
    "8. missing_energy_phi: This is the azimuthal angle of the missing energy, which is a measure of the angle around the beam axis. It is typically expressed in units of radians.\n",
    "\n",
    "9. MET_rel: This is the missing transverse energy divided by the scalar sum of the transverse momenta of the leptons. It is a measure of the balance of transverse momentum in the event.\n",
    "\n",
    "10. axial_MET: This is the missing transverse energy projected onto the beam axis. It is a measure of the imbalance of transverse momentum in the event.\n",
    "\n",
    "11. M_R: This is the invariant mass of the leptons and the missing energy. It is a measure of the total mass of the particles produced in the event.\n",
    "\n",
    "12. M_TR_2: This is the transverse mass of the leptons and the missing energy. It is a measure of the mass of the particles produced in the event based on their transverse momentum.\n",
    "\n",
    "13. R: This is the ratio of the transverse momentum of the leptons to the missing energy. It is a measure of the balance of transverse momentum in the event.\n",
    "\n",
    "14. MT2: This is the transverse mass of the leptons and the missing energy, calculated using the method of Cheng and Han. It is a measure of the mass of the particles produced in the event based on their transverse momentum.\n",
    "\n",
    "15. S_R: This is the sum of the scalar pT of the leptons and the missing energy. It is a measure of the total transverse momentum in the event.\n",
    "\n",
    "16. M_Delta_R: This is the invariant mass of the leptons and the missing energy, calculated using the Delta R method. It is a measure of the total mass of the particles produced in the event.\n",
    "\n",
    "17. dPhi_r_b: This is the difference in azimuthal angle between the missing energy and the leptons. It is a measure of the separation between these two quantities.\n",
    "\n",
    "18. cos(theta_r1): This is the cosine of the angle between the missing energy and the first lepton. It is a measure of the alignment between these two quantities.\n",
    "\n",
    "\n",
    "## Below we can see the correlation of all the columns."
   ]
  },
  {
   "cell_type": "code",
   "execution_count": 9,
   "id": "c3214764",
   "metadata": {
    "execution": {
     "iopub.execute_input": "2023-01-09T18:58:49.474487Z",
     "iopub.status.busy": "2023-01-09T18:58:49.473461Z",
     "iopub.status.idle": "2023-01-09T18:58:55.891629Z",
     "shell.execute_reply": "2023-01-09T18:58:55.890544Z"
    },
    "papermill": {
     "duration": 6.434717,
     "end_time": "2023-01-09T18:58:55.895873",
     "exception": false,
     "start_time": "2023-01-09T18:58:49.461156",
     "status": "completed"
    },
    "tags": []
   },
   "outputs": [
    {
     "data": {
      "image/png": "[encoded data removed]",
      "text/plain": [
       "<Figure size 1440x1080 with 2 Axes>"
      ]
     },
     "metadata": {
      "needs_background": "light"
     },
     "output_type": "display_data"
    }
   ],
   "source": [
    "plt.figure(figsize=(20, 15))\n",
    "cmap = sns.diverging_palette(245, 20, as_cmap=True)\n",
    "sns.heatmap(train_df.corr(), cmap = cmap, annot = True, fmt='.3f');"
   ]
  },
  {
   "cell_type": "code",
   "execution_count": 10,
   "id": "748beeb0",
   "metadata": {
    "execution": {
     "iopub.execute_input": "2023-01-09T18:58:55.924763Z",
     "iopub.status.busy": "2023-01-09T18:58:55.924367Z",
     "iopub.status.idle": "2023-01-09T18:58:59.448244Z",
     "shell.execute_reply": "2023-01-09T18:58:59.447186Z"
    },
    "papermill": {
     "duration": 3.541085,
     "end_time": "2023-01-09T18:58:59.450594",
     "exception": false,
     "start_time": "2023-01-09T18:58:55.909509",
     "status": "completed"
    },
    "tags": []
   },
   "outputs": [
    {
     "data": {
      "text/plain": [
       "lepton_1_phi               -0.001307\n",
       "lepton_1_eta               -0.000819\n",
       "lepton_2_phi               -0.000298\n",
       "lepton_2_eta                0.000283\n",
       "missing_energy_phi          0.001133\n",
       "dPhi_r_b                    0.032699\n",
       "axial_MET                   0.076874\n",
       "MT2                         0.079673\n",
       "R                           0.112003\n",
       "lepton_2_pT                 0.194732\n",
       "S_R                         0.258428\n",
       "M_R                         0.266716\n",
       "cos(theta_r1)               0.268856\n",
       "M_Delta_R                   0.273036\n",
       "MET_rel                     0.282983\n",
       "lepton_1_pT                 0.387273\n",
       "M_TR_2                      0.423138\n",
       "missing_energy_magnitude    0.439009\n",
       "Name: class, dtype: float64"
      ]
     },
     "execution_count": 10,
     "metadata": {},
     "output_type": "execute_result"
    }
   ],
   "source": [
    "corr = train_df.corr()['class'].sort_values()\n",
    "corr = corr.drop('class')\n",
    "corr"
   ]
  },
  {
   "cell_type": "code",
   "execution_count": 11,
   "id": "88ecf9e6",
   "metadata": {
    "execution": {
     "iopub.execute_input": "2023-01-09T18:58:59.478489Z",
     "iopub.status.busy": "2023-01-09T18:58:59.477900Z",
     "iopub.status.idle": "2023-01-09T18:58:59.802949Z",
     "shell.execute_reply": "2023-01-09T18:58:59.801919Z"
    },
    "papermill": {
     "duration": 0.340743,
     "end_time": "2023-01-09T18:58:59.804963",
     "exception": false,
     "start_time": "2023-01-09T18:58:59.464220",
     "status": "completed"
    },
    "tags": []
   },
   "outputs": [
    {
     "data": {
      "image/png": "[encoded data removed]",
      "text/plain": [
       "<Figure size 1440x720 with 1 Axes>"
      ]
     },
     "metadata": {
      "needs_background": "light"
     },
     "output_type": "display_data"
    }
   ],
   "source": [
    "# Create a figure with a single subplot\n",
    "corr = corr.iloc[::-1]\n",
    "fig, ax = plt.subplots(figsize=(20, 10))\n",
    "\n",
    "# Create a bar plot showing the correlation of each column with the target class\n",
    "sns.barplot(x=corr.index, y=corr.values, ax=ax, palette = 'viridis_r')\n",
    "\n",
    "# Set the x-axis tick labels and rotate them to 45 degrees\n",
    "ax.set_xticklabels(ax.get_xticklabels(), rotation=45)\n",
    "\n",
    "# Set the figure title and show the plot\n",
    "fig.suptitle('Correlation of Columns with Target Class')\n",
    "plt.show()"
   ]
  },
  {
   "cell_type": "markdown",
   "id": "8bd7cb31",
   "metadata": {
    "papermill": {
     "duration": 0.01298,
     "end_time": "2023-01-09T18:58:59.831188",
     "exception": false,
     "start_time": "2023-01-09T18:58:59.818208",
     "status": "completed"
    },
    "tags": []
   },
   "source": [
    "# **Model Training and Evaluation**\n",
    "   We split the preprocessed data into training and testing sets using the train_test_split function from scikit-learn, with a test"
   ]
  },
  {
   "cell_type": "code",
   "execution_count": 12,
   "id": "8dd55950",
   "metadata": {
    "execution": {
     "iopub.execute_input": "2023-01-09T18:58:59.860275Z",
     "iopub.status.busy": "2023-01-09T18:58:59.859920Z",
     "iopub.status.idle": "2023-01-09T18:59:13.441257Z",
     "shell.execute_reply": "2023-01-09T18:59:13.439534Z"
    },
    "papermill": {
     "duration": 13.599505,
     "end_time": "2023-01-09T18:59:13.444137",
     "exception": false,
     "start_time": "2023-01-09T18:58:59.844632",
     "status": "completed"
    },
    "tags": []
   },
   "outputs": [
    {
     "name": "stdout",
     "output_type": "stream",
     "text": [
      "(3465000, 18) (3465000, 1)\n",
      "(35000, 18) (35000, 1)\n"
     ]
    }
   ],
   "source": [
    "X, y = train_df.drop(['class'], axis = 1), train_df[['class']]\n",
    "X_train, X_test, y_train, y_test = train_test_split(X, y, test_size = 0.01, random_state=42, shuffle = True, stratify = y)\n",
    "print(X_train.shape, y_train.shape)\n",
    "print(X_test.shape, y_test.shape)"
   ]
  },
  {
   "cell_type": "markdown",
   "id": "c6dce0f5",
   "metadata": {
    "papermill": {
     "duration": 0.013096,
     "end_time": "2023-01-09T18:59:13.471092",
     "exception": false,
     "start_time": "2023-01-09T18:59:13.457996",
     "status": "completed"
    },
    "tags": []
   },
   "source": [
    "# Feature Engineering\n",
    "\n",
    "For the MT2 column in the dataset, there are many zero values. I tried to impute those values using **Stochastic Regression imputer**. I first replaced all the 0 values with nan values. Further on, I found the number of missing values and observed values, and randomly replaced those values from the new columns MT2_imp I created. I then predicted the missing values by fitting a linear regression model on the observed values. Further on I standardized it and updated the new values in the MT2 column, then dropping the MT2_imp column. \n",
    "\n",
    "There was not much change in the Predictions of the class between 0 and 1. \n",
    "\n",
    "On research I found that MT2 is the transverse mass of the leptons and the missing energy, calculated using the method of Cheng and Han. It is a measure of the mass of the particles produced in the event based on their transverse momentum and it can be zero so I did not go forward with imputing the values."
   ]
  },
  {
   "cell_type": "code",
   "execution_count": 13,
   "id": "40a06c9e",
   "metadata": {
    "execution": {
     "iopub.execute_input": "2023-01-09T18:59:13.501687Z",
     "iopub.status.busy": "2023-01-09T18:59:13.501004Z",
     "iopub.status.idle": "2023-01-09T18:59:13.875876Z",
     "shell.execute_reply": "2023-01-09T18:59:13.874992Z"
    },
    "papermill": {
     "duration": 0.392747,
     "end_time": "2023-01-09T18:59:13.878169",
     "exception": false,
     "start_time": "2023-01-09T18:59:13.485422",
     "status": "completed"
    },
    "tags": []
   },
   "outputs": [
    {
     "data": {
      "text/plain": [
       "Text(0, 0.5, 'Count')"
      ]
     },
     "execution_count": 13,
     "metadata": {},
     "output_type": "execute_result"
    },
    {
     "data": {
      "image/png": "[encoded data removed]",
      "text/plain": [
       "<Figure size 720x504 with 1 Axes>"
      ]
     },
     "metadata": {
      "needs_background": "light"
     },
     "output_type": "display_data"
    }
   ],
   "source": [
    "train_df['MT2'].hist(bins = 20, figsize=(10,7), color='crimson', linewidth = 1, edgecolor = 'white');\n",
    "plt.title('Distribution of MT2 column')\n",
    "plt.xlabel('Range')\n",
    "plt.ylabel('Count')"
   ]
  },
  {
   "cell_type": "code",
   "execution_count": 14,
   "id": "f348864c",
   "metadata": {
    "execution": {
     "iopub.execute_input": "2023-01-09T18:59:13.906266Z",
     "iopub.status.busy": "2023-01-09T18:59:13.905963Z",
     "iopub.status.idle": "2023-01-09T18:59:13.910969Z",
     "shell.execute_reply": "2023-01-09T18:59:13.910011Z"
    },
    "papermill": {
     "duration": 0.021422,
     "end_time": "2023-01-09T18:59:13.913059",
     "exception": false,
     "start_time": "2023-01-09T18:59:13.891637",
     "status": "completed"
    },
    "tags": []
   },
   "outputs": [],
   "source": [
    "# from skvalue_countsnear_model import LinearRegression\n",
    "\n",
    "# X_train['MT2'] = X_train['MT2'].replace(0.0, np.nan)\n",
    "\n",
    "# X_train['MT2_imp'] = X_train['MT2']\n",
    "\n",
    "# number_missing = X_train['MT2'].isnull().sum()\n",
    "# observed_values = X_train.loc[X_train['MT2'].notnull(), 'MT2']\n",
    "# X_train.loc[X_train['MT2'].isnull(), 'MT2_imp'] = np.random.choice(observed_values, number_missing, replace = True)\n",
    "\n",
    "# random_data = pd.DataFrame(columns = ['Ran_MT2'])\n",
    "\n",
    "# random_data['Ran_MT2'] = X_train['MT2_imp']\n",
    "# parameters = ['lepton_1_pT', 'lepton_1_eta', 'lepton_1_phi', 'lepton_2_pT',\n",
    "#               'lepton_2_eta', 'lepton_2_phi', 'missing_energy_magnitude',\n",
    "#               'missing_energy_phi', 'MET_rel', 'axial_MET', 'M_R', 'M_TR_2', 'R',\n",
    "#               'S_R', 'M_Delta_R', 'dPhi_r_b', 'cos(theta_r1)']\n",
    "\n",
    "# model = LinearRegression()\n",
    "# model.fit(X = X_train[parameters], y = X_train['MT2_imp'])\n",
    "# predict = model.predict(X_train[parameters])\n",
    "# std_error = (predict[X_train['MT2'].notnull()] - X_train.loc[X_train['MT2'].notnull(), 'MT2_imp']).std()\n",
    "    \n",
    "# #observe that I preserve the index of the missing data from the original dataframe\n",
    "# random_predict = np.random.normal(size = X_train['MT2'].shape[0], loc = predict, scale = std_error)\n",
    "# random_data.loc[(X_train['MT2'].isnull()) & (random_predict > 0), 'Ran_MT2'] = random_predict[(X_train['MT2'].isnull()) & (random_predict > 0)]\n",
    "# X_train['MT2'].update(random_data['Ran_MT2'])\n",
    "\n",
    "# X_train.drop(['MT2_imp'], inplace = True, axis=1)\n",
    "# X_train['MT2'].head(20)"
   ]
  },
  {
   "cell_type": "code",
   "execution_count": 15,
   "id": "59a08c27",
   "metadata": {
    "execution": {
     "iopub.execute_input": "2023-01-09T18:59:13.940737Z",
     "iopub.status.busy": "2023-01-09T18:59:13.940467Z",
     "iopub.status.idle": "2023-01-09T18:59:13.945399Z",
     "shell.execute_reply": "2023-01-09T18:59:13.944459Z"
    },
    "papermill": {
     "duration": 0.02101,
     "end_time": "2023-01-09T18:59:13.947325",
     "exception": false,
     "start_time": "2023-01-09T18:59:13.926315",
     "status": "completed"
    },
    "tags": []
   },
   "outputs": [],
   "source": [
    "# X_test['MT2'] = X_test['MT2'].replace(0.0, np.nan)\n",
    "\n",
    "# X_test['MT2_imp'] = X_test['MT2']\n",
    "\n",
    "# number_missing = X_test['MT2'].isnull().sum()\n",
    "# observed_values = X_test.loc[X_test['MT2'].notnull(), 'MT2']\n",
    "# X_test.loc[X_test['MT2'].isnull(), 'MT2_imp'] = np.random.choice(observed_values, number_missing, replace = True)\n",
    "\n",
    "# random_data = pd.DataFrame(columns = ['Ran_MT2'])\n",
    "\n",
    "# random_data['Ran_MT2'] = X_test['MT2_imp']\n",
    "# parameters = ['lepton_1_pT', 'lepton_1_eta', 'lepton_1_phi', 'lepton_2_pT',\n",
    "#               'lepton_2_eta', 'lepton_2_phi', 'missing_energy_magnitude',\n",
    "#               'missing_energy_phi', 'MET_rel', 'axial_MET', 'M_R', 'M_TR_2', 'R',\n",
    "#               'S_R', 'M_Delta_R', 'dPhi_r_b', 'cos(theta_r1)']\n",
    "\n",
    "# # model = LinearRegression()\n",
    "# # model.fit(X = X_train[parameters], y = X_train['MT2_imp'])\n",
    "# predict = model.predict(X_test[parameters])\n",
    "# std_error = (predict[X_test['MT2'].notnull()] - X_test.loc[X_test['MT2'].notnull(), 'MT2_imp']).std()\n",
    "    \n",
    "# #observe that I preserve the index of the missing data from the original dataframe\n",
    "# random_predict = np.random.normal(size = X_test['MT2'].shape[0], loc = predict, scale = std_error)\n",
    "# random_data.loc[(X_test['MT2'].isnull()) & (random_predict > 0), 'Ran_MT2'] = random_predict[(X_test['MT2'].isnull()) & (random_predict > 0)]\n",
    "# X_test['MT2'].update(random_data['Ran_MT2'])\n",
    "\n",
    "# X_test.drop(['MT2_imp'], inplace = True, axis=1)\n",
    "# X_test['MT2'].head(20)"
   ]
  },
  {
   "cell_type": "code",
   "execution_count": 16,
   "id": "e6a53486",
   "metadata": {
    "execution": {
     "iopub.execute_input": "2023-01-09T18:59:13.974881Z",
     "iopub.status.busy": "2023-01-09T18:59:13.974623Z",
     "iopub.status.idle": "2023-01-09T18:59:13.979296Z",
     "shell.execute_reply": "2023-01-09T18:59:13.978334Z"
    },
    "papermill": {
     "duration": 0.020721,
     "end_time": "2023-01-09T18:59:13.981133",
     "exception": false,
     "start_time": "2023-01-09T18:59:13.960412",
     "status": "completed"
    },
    "tags": []
   },
   "outputs": [],
   "source": [
    "# test_df['MT2'] = test_df['MT2'].replace(0.0, np.nan)\n",
    "\n",
    "# test_df['MT2_imp'] = test_df['MT2']\n",
    "\n",
    "# number_missing = test_df['MT2'].isnull().sum()\n",
    "# observed_values = test_df.loc[test_df['MT2'].notnull(), 'MT2']\n",
    "# test_df.loc[test_df['MT2'].isnull(), 'MT2_imp'] = np.random.choice(observed_values, number_missing, replace = True)\n",
    "\n",
    "# random_data = pd.DataFrame(columns = ['Ran_MT2'])\n",
    "\n",
    "# random_data['Ran_MT2'] = test_df['MT2_imp']\n",
    "# parameters = ['lepton_1_pT', 'lepton_1_eta', 'lepton_1_phi', 'lepton_2_pT',\n",
    "#               'lepton_2_eta', 'lepton_2_phi', 'missing_energy_magnitude',\n",
    "#               'missing_energy_phi', 'MET_rel', 'axial_MET', 'M_R', 'M_TR_2', 'R',\n",
    "#               'S_R', 'M_Delta_R', 'dPhi_r_b', 'cos(theta_r1)']\n",
    "\n",
    "# # model = LinearRegression()\n",
    "# # model.fit(X = X_train[parameters], y = X_train['MT2_imp'])\n",
    "# predict = model.predict(test_df[parameters])\n",
    "# std_error = (predict[test_df['MT2'].notnull()] - test_df.loc[test_df['MT2'].notnull(), 'MT2_imp']).std()\n",
    "    \n",
    "# #observe that I preserve the index of the missing data from the original dataframe\n",
    "# random_predict = np.random.normal(size = test_df['MT2'].shape[0], loc = predict, scale = std_error)\n",
    "# random_data.loc[(test_df['MT2'].isnull()) & (random_predict > 0), 'Ran_MT2'] = random_predict[(test_df['MT2'].isnull()) & (random_predict > 0)]\n",
    "# test_df['MT2'].update(random_data['Ran_MT2'])\n",
    "\n",
    "# test_df.drop(['MT2_imp'], inplace = True, axis=1)\n",
    "# test_df['MT2'].head(20)"
   ]
  },
  {
   "cell_type": "markdown",
   "id": "430bc937",
   "metadata": {
    "papermill": {
     "duration": 0.01362,
     "end_time": "2023-01-09T18:59:14.008275",
     "exception": false,
     "start_time": "2023-01-09T18:59:13.994655",
     "status": "completed"
    },
    "tags": []
   },
   "source": [
    "# **Data Preprocessing**\n",
    "   Since the columns have skewed distributions and have outliers, I decided to apply MinMax scaling to the data to bring all the values within a similar range. We used the MinMaxScaler function from the scikit-learn library to scale the data. \n",
    "   \n",
    "   On research about the SUSY ATLAS dataset and about forest and boosting:\n",
    "   1. I found that it is advisible not to scale the dataset.\n",
    "   2. Decision trees do not require normalization of their inputs; and since XGBoost is essentially an ensemble algorithm comprised of decision trees, it does not require normalization for the inputs either."
   ]
  },
  {
   "cell_type": "code",
   "execution_count": 17,
   "id": "4bdd7580",
   "metadata": {
    "execution": {
     "iopub.execute_input": "2023-01-09T18:59:14.036805Z",
     "iopub.status.busy": "2023-01-09T18:59:14.036025Z",
     "iopub.status.idle": "2023-01-09T18:59:17.948156Z",
     "shell.execute_reply": "2023-01-09T18:59:17.946998Z"
    },
    "papermill": {
     "duration": 3.929413,
     "end_time": "2023-01-09T18:59:17.951085",
     "exception": false,
     "start_time": "2023-01-09T18:59:14.021672",
     "status": "completed"
    },
    "tags": []
   },
   "outputs": [
    {
     "data": {
      "text/html": [
       "<div>\n",
       "<style scoped>\n",
       "    .dataframe tbody tr th:only-of-type {\n",
       "        vertical-align: middle;\n",
       "    }\n",
       "\n",
       "    .dataframe tbody tr th {\n",
       "        vertical-align: top;\n",
       "    }\n",
       "\n",
       "    .dataframe thead th {\n",
       "        text-align: right;\n",
       "    }\n",
       "</style>\n",
       "<table border=\"1\" class=\"dataframe\">\n",
       "  <thead>\n",
       "    <tr style=\"text-align: right;\">\n",
       "      <th></th>\n",
       "      <th>count</th>\n",
       "      <th>mean</th>\n",
       "      <th>std</th>\n",
       "      <th>min</th>\n",
       "      <th>25%</th>\n",
       "      <th>50%</th>\n",
       "      <th>75%</th>\n",
       "      <th>max</th>\n",
       "    </tr>\n",
       "  </thead>\n",
       "  <tbody>\n",
       "    <tr>\n",
       "      <th>lepton_1_pT</th>\n",
       "      <td>3500000.0</td>\n",
       "      <td>0.036719</td>\n",
       "      <td>0.033864</td>\n",
       "      <td>0.0</td>\n",
       "      <td>0.015155</td>\n",
       "      <td>0.026429</td>\n",
       "      <td>0.046771</td>\n",
       "      <td>1.0</td>\n",
       "    </tr>\n",
       "    <tr>\n",
       "      <th>lepton_1_eta</th>\n",
       "      <td>3500000.0</td>\n",
       "      <td>0.500242</td>\n",
       "      <td>0.238579</td>\n",
       "      <td>0.0</td>\n",
       "      <td>0.320121</td>\n",
       "      <td>0.500302</td>\n",
       "      <td>0.680465</td>\n",
       "      <td>1.0</td>\n",
       "    </tr>\n",
       "    <tr>\n",
       "      <th>lepton_1_phi</th>\n",
       "      <td>3500000.0</td>\n",
       "      <td>0.500091</td>\n",
       "      <td>0.288783</td>\n",
       "      <td>0.0</td>\n",
       "      <td>0.250017</td>\n",
       "      <td>0.499906</td>\n",
       "      <td>0.750206</td>\n",
       "      <td>1.0</td>\n",
       "    </tr>\n",
       "    <tr>\n",
       "      <th>lepton_2_pT</th>\n",
       "      <td>3500000.0</td>\n",
       "      <td>0.017501</td>\n",
       "      <td>0.020049</td>\n",
       "      <td>0.0</td>\n",
       "      <td>0.005164</td>\n",
       "      <td>0.011382</td>\n",
       "      <td>0.022491</td>\n",
       "      <td>1.0</td>\n",
       "    </tr>\n",
       "    <tr>\n",
       "      <th>lepton_2_eta</th>\n",
       "      <td>3500000.0</td>\n",
       "      <td>0.500036</td>\n",
       "      <td>0.243460</td>\n",
       "      <td>0.0</td>\n",
       "      <td>0.313171</td>\n",
       "      <td>0.499977</td>\n",
       "      <td>0.686845</td>\n",
       "      <td>1.0</td>\n",
       "    </tr>\n",
       "    <tr>\n",
       "      <th>lepton_2_phi</th>\n",
       "      <td>3500000.0</td>\n",
       "      <td>0.499855</td>\n",
       "      <td>0.288694</td>\n",
       "      <td>0.0</td>\n",
       "      <td>0.249681</td>\n",
       "      <td>0.499829</td>\n",
       "      <td>0.749869</td>\n",
       "      <td>1.0</td>\n",
       "    </tr>\n",
       "    <tr>\n",
       "      <th>missing_energy_magnitude</th>\n",
       "      <td>3500000.0</td>\n",
       "      <td>0.047405</td>\n",
       "      <td>0.041409</td>\n",
       "      <td>0.0</td>\n",
       "      <td>0.022663</td>\n",
       "      <td>0.036679</td>\n",
       "      <td>0.057251</td>\n",
       "      <td>1.0</td>\n",
       "    </tr>\n",
       "    <tr>\n",
       "      <th>missing_energy_phi</th>\n",
       "      <td>3500000.0</td>\n",
       "      <td>0.497900</td>\n",
       "      <td>0.288845</td>\n",
       "      <td>0.0</td>\n",
       "      <td>0.248217</td>\n",
       "      <td>0.495047</td>\n",
       "      <td>0.748399</td>\n",
       "      <td>1.0</td>\n",
       "    </tr>\n",
       "    <tr>\n",
       "      <th>MET_rel</th>\n",
       "      <td>3500000.0</td>\n",
       "      <td>0.042800</td>\n",
       "      <td>0.038046</td>\n",
       "      <td>0.0</td>\n",
       "      <td>0.015777</td>\n",
       "      <td>0.034281</td>\n",
       "      <td>0.058782</td>\n",
       "      <td>1.0</td>\n",
       "    </tr>\n",
       "    <tr>\n",
       "      <th>axial_MET</th>\n",
       "      <td>3500000.0</td>\n",
       "      <td>0.439055</td>\n",
       "      <td>0.028651</td>\n",
       "      <td>0.0</td>\n",
       "      <td>0.424969</td>\n",
       "      <td>0.436766</td>\n",
       "      <td>0.449048</td>\n",
       "      <td>1.0</td>\n",
       "    </tr>\n",
       "    <tr>\n",
       "      <th>M_R</th>\n",
       "      <td>3500000.0</td>\n",
       "      <td>0.035188</td>\n",
       "      <td>0.030213</td>\n",
       "      <td>0.0</td>\n",
       "      <td>0.015391</td>\n",
       "      <td>0.026934</td>\n",
       "      <td>0.045315</td>\n",
       "      <td>1.0</td>\n",
       "    </tr>\n",
       "    <tr>\n",
       "      <th>M_TR_2</th>\n",
       "      <td>3500000.0</td>\n",
       "      <td>0.061691</td>\n",
       "      <td>0.036123</td>\n",
       "      <td>0.0</td>\n",
       "      <td>0.038342</td>\n",
       "      <td>0.054156</td>\n",
       "      <td>0.075315</td>\n",
       "      <td>1.0</td>\n",
       "    </tr>\n",
       "    <tr>\n",
       "      <th>R</th>\n",
       "      <td>3500000.0</td>\n",
       "      <td>0.147961</td>\n",
       "      <td>0.070042</td>\n",
       "      <td>0.0</td>\n",
       "      <td>0.096004</td>\n",
       "      <td>0.138196</td>\n",
       "      <td>0.190079</td>\n",
       "      <td>1.0</td>\n",
       "    </tr>\n",
       "    <tr>\n",
       "      <th>MT2</th>\n",
       "      <td>3500000.0</td>\n",
       "      <td>0.048349</td>\n",
       "      <td>0.041527</td>\n",
       "      <td>0.0</td>\n",
       "      <td>0.008257</td>\n",
       "      <td>0.043577</td>\n",
       "      <td>0.077943</td>\n",
       "      <td>1.0</td>\n",
       "    </tr>\n",
       "    <tr>\n",
       "      <th>S_R</th>\n",
       "      <td>3500000.0</td>\n",
       "      <td>0.046042</td>\n",
       "      <td>0.029374</td>\n",
       "      <td>0.0</td>\n",
       "      <td>0.027035</td>\n",
       "      <td>0.038250</td>\n",
       "      <td>0.055879</td>\n",
       "      <td>1.0</td>\n",
       "    </tr>\n",
       "    <tr>\n",
       "      <th>M_Delta_R</th>\n",
       "      <td>3500000.0</td>\n",
       "      <td>0.063766</td>\n",
       "      <td>0.039950</td>\n",
       "      <td>0.0</td>\n",
       "      <td>0.032609</td>\n",
       "      <td>0.058253</td>\n",
       "      <td>0.088369</td>\n",
       "      <td>1.0</td>\n",
       "    </tr>\n",
       "    <tr>\n",
       "      <th>dPhi_r_b</th>\n",
       "      <td>3500000.0</td>\n",
       "      <td>0.627796</td>\n",
       "      <td>0.274014</td>\n",
       "      <td>0.0</td>\n",
       "      <td>0.431899</td>\n",
       "      <td>0.687394</td>\n",
       "      <td>0.860123</td>\n",
       "      <td>1.0</td>\n",
       "    </tr>\n",
       "    <tr>\n",
       "      <th>cos(theta_r1)</th>\n",
       "      <td>3500000.0</td>\n",
       "      <td>0.224865</td>\n",
       "      <td>0.197005</td>\n",
       "      <td>0.0</td>\n",
       "      <td>0.069101</td>\n",
       "      <td>0.167168</td>\n",
       "      <td>0.330148</td>\n",
       "      <td>1.0</td>\n",
       "    </tr>\n",
       "  </tbody>\n",
       "</table>\n",
       "</div>"
      ],
      "text/plain": [
       "                              count      mean       std  min       25%  \\\n",
       "lepton_1_pT               3500000.0  0.036719  0.033864  0.0  0.015155   \n",
       "lepton_1_eta              3500000.0  0.500242  0.238579  0.0  0.320121   \n",
       "lepton_1_phi              3500000.0  0.500091  0.288783  0.0  0.250017   \n",
       "lepton_2_pT               3500000.0  0.017501  0.020049  0.0  0.005164   \n",
       "lepton_2_eta              3500000.0  0.500036  0.243460  0.0  0.313171   \n",
       "lepton_2_phi              3500000.0  0.499855  0.288694  0.0  0.249681   \n",
       "missing_energy_magnitude  3500000.0  0.047405  0.041409  0.0  0.022663   \n",
       "missing_energy_phi        3500000.0  0.497900  0.288845  0.0  0.248217   \n",
       "MET_rel                   3500000.0  0.042800  0.038046  0.0  0.015777   \n",
       "axial_MET                 3500000.0  0.439055  0.028651  0.0  0.424969   \n",
       "M_R                       3500000.0  0.035188  0.030213  0.0  0.015391   \n",
       "M_TR_2                    3500000.0  0.061691  0.036123  0.0  0.038342   \n",
       "R                         3500000.0  0.147961  0.070042  0.0  0.096004   \n",
       "MT2                       3500000.0  0.048349  0.041527  0.0  0.008257   \n",
       "S_R                       3500000.0  0.046042  0.029374  0.0  0.027035   \n",
       "M_Delta_R                 3500000.0  0.063766  0.039950  0.0  0.032609   \n",
       "dPhi_r_b                  3500000.0  0.627796  0.274014  0.0  0.431899   \n",
       "cos(theta_r1)             3500000.0  0.224865  0.197005  0.0  0.069101   \n",
       "\n",
       "                               50%       75%  max  \n",
       "lepton_1_pT               0.026429  0.046771  1.0  \n",
       "lepton_1_eta              0.500302  0.680465  1.0  \n",
       "lepton_1_phi              0.499906  0.750206  1.0  \n",
       "lepton_2_pT               0.011382  0.022491  1.0  \n",
       "lepton_2_eta              0.499977  0.686845  1.0  \n",
       "lepton_2_phi              0.499829  0.749869  1.0  \n",
       "missing_energy_magnitude  0.036679  0.057251  1.0  \n",
       "missing_energy_phi        0.495047  0.748399  1.0  \n",
       "MET_rel                   0.034281  0.058782  1.0  \n",
       "axial_MET                 0.436766  0.449048  1.0  \n",
       "M_R                       0.026934  0.045315  1.0  \n",
       "M_TR_2                    0.054156  0.075315  1.0  \n",
       "R                         0.138196  0.190079  1.0  \n",
       "MT2                       0.043577  0.077943  1.0  \n",
       "S_R                       0.038250  0.055879  1.0  \n",
       "M_Delta_R                 0.058253  0.088369  1.0  \n",
       "dPhi_r_b                  0.687394  0.860123  1.0  \n",
       "cos(theta_r1)             0.167168  0.330148  1.0  "
      ]
     },
     "execution_count": 17,
     "metadata": {},
     "output_type": "execute_result"
    }
   ],
   "source": [
    "from sklearn.preprocessing import MinMaxScaler\n",
    "\n",
    "scaler = MinMaxScaler()\n",
    "train_transformed = pd.DataFrame(scaler.fit_transform(X),index=X.index, columns=X.columns)\n",
    "X_train_transformed = pd.DataFrame(scaler.fit_transform(X_train),index=X_train.index, columns=X_train.columns)\n",
    "X_test_transformed = pd.DataFrame(scaler.transform(X_test),index=X_test.index, columns=X_test.columns)\n",
    "test_transformed = pd.DataFrame(scaler.transform(test_df), index=test_df.index, columns=test_df.columns)\n",
    "# Summary statistics after standardization\n",
    "train_transformed.describe().T"
   ]
  },
  {
   "cell_type": "markdown",
   "id": "d3b37155",
   "metadata": {
    "papermill": {
     "duration": 0.014043,
     "end_time": "2023-01-09T18:59:17.980429",
     "exception": false,
     "start_time": "2023-01-09T18:59:17.966386",
     "status": "completed"
    },
    "tags": []
   },
   "source": [
    "# Training Different Models\n",
    "\n",
    "I tried out different classification models. Since this was a very large dataset, I found out that ensemble learnings would be the best models to classify between the data points. \n"
   ]
  },
  {
   "cell_type": "markdown",
   "id": "f8fb6acc",
   "metadata": {
    "papermill": {
     "duration": 0.013587,
     "end_time": "2023-01-09T18:59:18.008035",
     "exception": false,
     "start_time": "2023-01-09T18:59:17.994448",
     "status": "completed"
    },
    "tags": []
   },
   "source": [
    "# AdaBoost Classifier"
   ]
  },
  {
   "cell_type": "code",
   "execution_count": 18,
   "id": "314b1e22",
   "metadata": {
    "execution": {
     "iopub.execute_input": "2023-01-09T18:59:18.037535Z",
     "iopub.status.busy": "2023-01-09T18:59:18.037219Z",
     "iopub.status.idle": "2023-01-09T18:59:18.041983Z",
     "shell.execute_reply": "2023-01-09T18:59:18.041015Z"
    },
    "papermill": {
     "duration": 0.02206,
     "end_time": "2023-01-09T18:59:18.043978",
     "exception": false,
     "start_time": "2023-01-09T18:59:18.021918",
     "status": "completed"
    },
    "tags": []
   },
   "outputs": [],
   "source": [
    "# from sklearn.ensemble import AdaBoostClassifier¶\n",
    "\n",
    "# ABC = AdaBoostClassifier( base_estimator = DecisionTreeClassifier(max_depth = 9), \n",
    "#                             algorithm = 'SAMME', n_estimators=200)\n",
    "# ABC.fit(X_train,y_train)\n",
    "# y_pred_abc=ABC.predict(X_test)\n",
    "\n",
    "\n",
    "# end = time.time()\n",
    "# print('The accuracy of the model GradientBoostingClassifier is: ', accuracy_score(y_test, y_pred_abc)*100,'%')\n",
    "# print('Time taken: ', end-start)\n",
    "# y_predicted_abc = ABC.predict(X_test_transformed)\n",
    "\n",
    "# submission1 = pd.DataFrame(y_predicted_abc, columns=['class'], dtype = float)\n",
    "# submission1.to_csv(path_or_buf='y_pre_abc.csv',header=['class'],index_label='Id')"
   ]
  },
  {
   "cell_type": "markdown",
   "id": "3f65bbcd",
   "metadata": {
    "papermill": {
     "duration": 0.01375,
     "end_time": "2023-01-09T18:59:18.071624",
     "exception": false,
     "start_time": "2023-01-09T18:59:18.057874",
     "status": "completed"
    },
    "tags": []
   },
   "source": [
    "The accuacy of this ensemble model came to be less which is why I did not go forward with this model. Also, the training time exceeded a more that 1.5 hours."
   ]
  },
  {
   "cell_type": "markdown",
   "id": "795aa66e",
   "metadata": {
    "papermill": {
     "duration": 0.013587,
     "end_time": "2023-01-09T18:59:18.099270",
     "exception": false,
     "start_time": "2023-01-09T18:59:18.085683",
     "status": "completed"
    },
    "tags": []
   },
   "source": [
    "# Gradient Boosting Classifier"
   ]
  },
  {
   "cell_type": "code",
   "execution_count": 19,
   "id": "c24db9f3",
   "metadata": {
    "execution": {
     "iopub.execute_input": "2023-01-09T18:59:18.129099Z",
     "iopub.status.busy": "2023-01-09T18:59:18.128726Z",
     "iopub.status.idle": "2023-01-09T18:59:18.133553Z",
     "shell.execute_reply": "2023-01-09T18:59:18.132528Z"
    },
    "papermill": {
     "duration": 0.022355,
     "end_time": "2023-01-09T18:59:18.135754",
     "exception": false,
     "start_time": "2023-01-09T18:59:18.113399",
     "status": "completed"
    },
    "tags": []
   },
   "outputs": [],
   "source": [
    "# from sklearn.ensemble import GradientBoostingClassifier\n",
    "# from sklearn.metrics import accuracy_score\n",
    "# import time\n",
    "\n",
    "# GBC = GradientBoostingClassifier(n_estimators = 100, max_depth = 8)\n",
    "# start = time.time()\n",
    "# GBC.fit(X_train_transformed, y_train) \n",
    "# y_pred_gbc = GBC.predict(X_test_transformed)\n",
    "# end = time.time()\n",
    "# print('The accuracy of the model GradientBoostingClassifier is: ', accuracy_score(y_test, y_pred_gbc)*100,'%')\n",
    "# print('Time taken: ', end-start)\n",
    "# y_predicted_gbc = GBC.predict(test_transformed)\n",
    "\n",
    "# submission1 = pd.DataFrame(y_predicted_gbc, columns=['class'], dtype = float)\n",
    "# submission1.to_csv(path_or_buf='y_pre_gbc.csv',header=['class'],index_label='Id')"
   ]
  },
  {
   "cell_type": "markdown",
   "id": "f8ed05d0",
   "metadata": {
    "papermill": {
     "duration": 0.013947,
     "end_time": "2023-01-09T18:59:18.163592",
     "exception": false,
     "start_time": "2023-01-09T18:59:18.149645",
     "status": "completed"
    },
    "tags": []
   },
   "source": [
    "Gradient Boosting Algorithm boosted my accuracy because this algorithm builds an additive model in a forward stage-wise fashion; it allows for the optimization of arbitrary differentiable loss functions. In each stage n_classes_ regression trees are fit on the negative gradient of the loss function, e.g. binary or multiclass log loss. But this model took 2.5 total hours to train on the dataset."
   ]
  },
  {
   "cell_type": "markdown",
   "id": "7777a66d",
   "metadata": {
    "papermill": {
     "duration": 0.013899,
     "end_time": "2023-01-09T18:59:18.191316",
     "exception": false,
     "start_time": "2023-01-09T18:59:18.177417",
     "status": "completed"
    },
    "tags": []
   },
   "source": [
    "# Random Forest Classifier"
   ]
  },
  {
   "cell_type": "code",
   "execution_count": 20,
   "id": "a286c862",
   "metadata": {
    "execution": {
     "iopub.execute_input": "2023-01-09T18:59:18.220730Z",
     "iopub.status.busy": "2023-01-09T18:59:18.219838Z",
     "iopub.status.idle": "2023-01-09T18:59:18.224925Z",
     "shell.execute_reply": "2023-01-09T18:59:18.223888Z"
    },
    "papermill": {
     "duration": 0.021858,
     "end_time": "2023-01-09T18:59:18.226883",
     "exception": false,
     "start_time": "2023-01-09T18:59:18.205025",
     "status": "completed"
    },
    "tags": []
   },
   "outputs": [],
   "source": [
    "# from sklearn.ensemble import RandomForestClassifier\n",
    "# import time\n",
    "\n",
    "# RFC = RandomForestClassifier(n_estimators = 100, max_depth = 8, criterion = 'gini', \n",
    "#                              max_features = 'sqrt', random_state = 42)\n",
    "# start = time.time()\n",
    "# RFC.fit(X_train_transformed, y_train)\n",
    "# y_pred_rfc = RFC.predict(X_test_transformed)\n",
    "# end = time.time()\n",
    "# print('The accuracy of the model RandomForestClassifier is: ', accuracy_score(y_test, y_pred_rfc)*100,'%')\n",
    "# print('Time taken: ', end-start)\n",
    "# y_predicted_rfc = RFC.predict(test_transformed)\n",
    "\n",
    "# submission1 = pd.DataFrame(y_predicted_rfc, columns=['class'], dtype = float)\n",
    "# submission1.to_csv(path_or_buf='y_pre_rfc.csv',header=['class'],index_label='Id')"
   ]
  },
  {
   "cell_type": "markdown",
   "id": "ad79f972",
   "metadata": {
    "papermill": {
     "duration": 0.013547,
     "end_time": "2023-01-09T18:59:18.253723",
     "exception": false,
     "start_time": "2023-01-09T18:59:18.240176",
     "status": "completed"
    },
    "tags": []
   },
   "source": [
    "I did not use this model. Althought the time taken was less compared AdaBoost Classifier and Gradient Boosting Classifier, the prediction score dropped to 78%."
   ]
  },
  {
   "cell_type": "markdown",
   "id": "e0268378",
   "metadata": {
    "papermill": {
     "duration": 0.013554,
     "end_time": "2023-01-09T18:59:18.281151",
     "exception": false,
     "start_time": "2023-01-09T18:59:18.267597",
     "status": "completed"
    },
    "tags": []
   },
   "source": [
    "# XGBoost Classifier\n",
    "\n",
    "I then decided to work with XGBoost Classifier."
   ]
  },
  {
   "cell_type": "code",
   "execution_count": 21,
   "id": "65d1ce5e",
   "metadata": {
    "execution": {
     "iopub.execute_input": "2023-01-09T18:59:18.311043Z",
     "iopub.status.busy": "2023-01-09T18:59:18.310330Z",
     "iopub.status.idle": "2023-01-09T18:59:18.315828Z",
     "shell.execute_reply": "2023-01-09T18:59:18.314727Z"
    },
    "papermill": {
     "duration": 0.022903,
     "end_time": "2023-01-09T18:59:18.317931",
     "exception": false,
     "start_time": "2023-01-09T18:59:18.295028",
     "status": "completed"
    },
    "tags": []
   },
   "outputs": [],
   "source": [
    "# from xgboost import XGBClassifier\n",
    "# from sklearn.metrics import accuracy_score\n",
    "# from sklearn.model_selection import GridSearchCV\n",
    "# import time\n",
    "\n",
    "\n",
    "# XGB2 = XGBClassifier(\n",
    "#     n_estimators = 100, eval_metric = 'logloss',\n",
    "#     learning_rate = 0.1, max_depth = 8,\n",
    "#     subsample = 0.7, colsample_bytree = 0.80,\n",
    "#     booster = 'dart', reg_alpha = 5, reg_lambda = 0.1, \n",
    "#     silent = 1, seed = 0, nthread = -1,\n",
    "#     tree_method = 'gpu_hist')\n",
    "\n",
    "# start = time.time()\n",
    "# XGB2.fit(train_transformed, y) \n",
    "# y_pred_xgb = XGB2.predict(X_test_transformed)\n",
    "# end = time.time()\n",
    "# print('Time taken: ', end-start)\n",
    "\n",
    "# print('The accuracy of the model XGBClassifier is: ', accuracy_score(y_test, y_pred_xgb)*100,'%')\n",
    "# print('Time taken: ', end-start)\n",
    "\n",
    "# # test_transformed = pd.DataFrame(scaler.transform(test_df), index=test_df.index, columns=test_df.columns)\n",
    "# y_predicted_xgb = XGB2.predict(test_transformed)\n",
    "\n",
    "# submission1 = pd.DataFrame(y_predicted_xgb, columns=['class'], dtype = float)\n",
    "# submission1.to_csv(path_or_buf='y_pre.csv',header=['class'],index_label='Id')"
   ]
  },
  {
   "cell_type": "markdown",
   "id": "d31887e1",
   "metadata": {
    "papermill": {
     "duration": 0.014109,
     "end_time": "2023-01-09T18:59:18.346091",
     "exception": false,
     "start_time": "2023-01-09T18:59:18.331982",
     "status": "completed"
    },
    "tags": []
   },
   "source": [
    "By using GPU, the training time skyrocketed and the predictions were very close to that of the Gradient Boosting Algorithm which is why I decided to hyperparameter tune the model further to find the best parameters for my model. I used Repeated Stratified K Fold within Grid Search CV to find the best parameters."
   ]
  },
  {
   "cell_type": "code",
   "execution_count": 22,
   "id": "0cb559c6",
   "metadata": {
    "execution": {
     "iopub.execute_input": "2023-01-09T18:59:18.375509Z",
     "iopub.status.busy": "2023-01-09T18:59:18.374565Z",
     "iopub.status.idle": "2023-01-09T18:59:18.380149Z",
     "shell.execute_reply": "2023-01-09T18:59:18.379266Z"
    },
    "papermill": {
     "duration": 0.022663,
     "end_time": "2023-01-09T18:59:18.382339",
     "exception": false,
     "start_time": "2023-01-09T18:59:18.359676",
     "status": "completed"
    },
    "tags": []
   },
   "outputs": [],
   "source": [
    "# from xgboost import XGBClassifier\n",
    "# from sklearn.metrics import accuracy_score\n",
    "# from sklearn.model_selection import GridSearchCV\n",
    "# from sklearn.model_selection import RepeatedStratifiedKFold\n",
    "# import time\n",
    "\n",
    "\n",
    "# # bst_est = tree_classifier_cv.best_estimator_\n",
    "# XGB = XGBClassifier(tree_method = 'gpu_hist', random_state = 42)\n",
    "# param_grid = {\n",
    "#     'n_estimators': np.arange(100, 800, 50),\n",
    "#     'learning_rate': np.linspace(0.01, 5, 10),\n",
    "#     'gamma': np.linspace(0.01, 1, 20),\n",
    "#     'max_depth': np.arange(6, 20),\n",
    "#     'min_child_weight': np.arange(8, 25),\n",
    "#     'subsample': np.arange(0.5, 1.1, 0.1),\n",
    "#     'colsample_bytree': np.arange(0.5, 1.2, 0.1),\n",
    "#     'booster': ['dart', 'gbtree', 'gbtree']\n",
    "#     'reg_alpha': np.linspace(0.01, 5, 10),\n",
    "#     'reg_lambda': np.linspace(0.01, 5, 10),\n",
    "#     'num_parallel_tree': [2, 3, 4, 6] \n",
    "# }\n",
    "# scoring = ['roc_auc']\n",
    "# scoring = ['accuracy'] \n",
    "\n",
    "# cv = RepeatedStratifiedKFold(n_splits=10, n_repeats=3, random_state=42)\n",
    "# grid_search = GridSearchCV(estimator=XGB, param_grid=param_grid, scoring=scoring, refit='roc_auc', cv=5, verbose = 3)\n",
    "\n",
    "# start = time.time()\n",
    "# grid_search.fit(X_train_transformed, y_train) \n",
    "# y_pred_xgb = grid_search.predict(X_test_transformed)\n",
    "# end = time.time()"
   ]
  },
  {
   "cell_type": "code",
   "execution_count": 23,
   "id": "d2e70674",
   "metadata": {
    "execution": {
     "iopub.execute_input": "2023-01-09T18:59:18.411347Z",
     "iopub.status.busy": "2023-01-09T18:59:18.411028Z",
     "iopub.status.idle": "2023-01-09T18:59:18.415384Z",
     "shell.execute_reply": "2023-01-09T18:59:18.414281Z"
    },
    "papermill": {
     "duration": 0.021303,
     "end_time": "2023-01-09T18:59:18.417356",
     "exception": false,
     "start_time": "2023-01-09T18:59:18.396053",
     "status": "completed"
    },
    "tags": []
   },
   "outputs": [],
   "source": [
    "# grid_search.best_params_"
   ]
  },
  {
   "cell_type": "markdown",
   "id": "b62b98d3",
   "metadata": {
    "papermill": {
     "duration": 0.01401,
     "end_time": "2023-01-09T18:59:18.445099",
     "exception": false,
     "start_time": "2023-01-09T18:59:18.431089",
     "status": "completed"
    },
    "tags": []
   },
   "source": [
    "I tuned every parameter one by one to find the best paramter for my model. "
   ]
  },
  {
   "cell_type": "markdown",
   "id": "ebe59d8f",
   "metadata": {
    "papermill": {
     "duration": 0.016088,
     "end_time": "2023-01-09T18:59:18.475259",
     "exception": false,
     "start_time": "2023-01-09T18:59:18.459171",
     "status": "completed"
    },
    "tags": []
   },
   "source": [
    "The XGBoost classifier has many parameters that I used to customize the model training process. Here is a list of all parameters, along with a brief explanation:\n",
    "\n",
    "   1. 'booster': Specifies the type of booster to use, either 'gbtree' (tree-based) or 'gblinear' (linear model).\n",
    "\n",
    "   2. 'silent': Controls whether the model training process is verbose or silent.\n",
    "\n",
    "   3. 'nthread': Specifies the number of threads to use for parallel training.\n",
    "\n",
    "   4. 'learning_rate': Controls the step size at each iteration when constructing the trees. A smaller value will lead to slower model training, but may             result in a more accurate model.\n",
    "\n",
    "   5. 'min_child_weight': Controls the minimum sum of weights of all observations required in a child. Higher values can help prevent overfitting.\n",
    "\n",
    "   6. 'max_depth': Controls the maximum depth of each tree in the model. A deeper tree can capture more complex patterns in the data, but it may also be             more prone to overfitting.\n",
    "\n",
    "   7. 'gamma': Controls the minimum loss reduction required to make a split. Higher values can help prevent overfitting.\n",
    "\n",
    "   8. 'subsample': Controls the fraction of observations to be randomly sampled for each tree. A smaller value can help prevent overfitting.\n",
    "\n",
    "   9. 'colsample_bytree': Controls the fraction of features to be randomly sampled for each tree. A smaller value can help prevent overfitting.\n",
    "\n",
    "   10. 'colsample_bylevel': Controls the fraction of features to be used in each level of the tree. A smaller value can help prevent overfitting.\n",
    "\n",
    "   11. 'colsample_bynode': Controls the fraction of features to be used in each node of the tree. A smaller value can help prevent overfitting.\n",
    "\n",
    "   12. 'reg_alpha': Controls the L1 regularization term on the model weights. A larger value can help prevent overfitting.\n",
    "\n",
    "   13. 'reg_lambda': Controls the L2 regularization term on the model weights. A larger value can help prevent overfitting.\n",
    "\n",
    "   14. 'scale_pos_weight': Controls the balance of positive and negative weights. A larger value can help improve the accuracy of the model on                        imbalanced datasets.\n",
    "\n",
    "   15. 'seed': Specifies the random seed used to initialize the model.\n",
    "\n",
    "   16. 'sampling_method': Specifies the method used to sample the data for training. Options include 'uniform', 'weighted', 'bootstrap', and                         'gradient_based'.\n",
    "\n",
    "   17. 'objective': Specifies the objective function to use for training. Options include 'reg:linear', 'reg:logistic', 'binary:logistic',                           'binary:logitraw', 'multi:softmax', 'multi:softprob', 'rank:pairwise', and 'count:poisson'.\n",
    "\n",
    "   18. 'eval_metric': Specifies the evaluation metric to use for model.\n",
    "\n",
    "   19. 'grow_policy': Specifies the grow policy to use for constructing the trees. Options include 'depthwise' and 'lossguide'.\n",
    "\n",
    "   20. 'max_bin': Controls the maximum number of bins used in the feature histograms.\n",
    "\n",
    "   21. 'num_parallel_tree': Controls the number of parallel trees used in the model.\n",
    "\n",
    "   22. 'refresh_leaf': Controls the frequency of leaf weight updates."
   ]
  },
  {
   "cell_type": "code",
   "execution_count": 24,
   "id": "f11dfcf1",
   "metadata": {
    "execution": {
     "iopub.execute_input": "2023-01-09T18:59:18.506374Z",
     "iopub.status.busy": "2023-01-09T18:59:18.505798Z",
     "iopub.status.idle": "2023-01-09T18:59:18.890395Z",
     "shell.execute_reply": "2023-01-09T18:59:18.889140Z"
    },
    "papermill": {
     "duration": 0.402841,
     "end_time": "2023-01-09T18:59:18.893174",
     "exception": false,
     "start_time": "2023-01-09T18:59:18.490333",
     "status": "completed"
    },
    "tags": []
   },
   "outputs": [
    {
     "data": {
      "text/plain": [
       "1.1870489211600108"
      ]
     },
     "execution_count": 24,
     "metadata": {},
     "output_type": "execute_result"
    }
   ],
   "source": [
    "# Calculating the Scale Pos Weight Parameter for the XGBoosting Classifier\n",
    "\n",
    "# Calculate the number of rows with class 1\n",
    "num_class_1 = train_df[train_df['class'] == 1].shape[0]\n",
    "\n",
    "# Calculate the number of rows with class 0\n",
    "num_class_0 = train_df[train_df['class'] == 0].shape[0]\n",
    "\n",
    "scale_pos_weight = num_class_0/num_class_1\n",
    "scale_pos_weight"
   ]
  },
  {
   "cell_type": "code",
   "execution_count": 25,
   "id": "01c777af",
   "metadata": {
    "execution": {
     "iopub.execute_input": "2023-01-09T18:59:18.924292Z",
     "iopub.status.busy": "2023-01-09T18:59:18.923915Z",
     "iopub.status.idle": "2023-01-09T19:09:31.251355Z",
     "shell.execute_reply": "2023-01-09T19:09:31.250212Z"
    },
    "papermill": {
     "duration": 612.346106,
     "end_time": "2023-01-09T19:09:31.254451",
     "exception": false,
     "start_time": "2023-01-09T18:59:18.908345",
     "status": "completed"
    },
    "tags": []
   },
   "outputs": [
    {
     "name": "stdout",
     "output_type": "stream",
     "text": [
      "[18:59:24] WARNING: ../src/learner.cc:627: \n",
      "Parameters: { \"scale_pos_weight\" } might not be used.\n",
      "\n",
      "  This could be a false alarm, with some parameters getting used by language bindings but\n",
      "  then being mistakenly passed down to XGBoost core, or some parameter actually being used\n",
      "  but getting flagged wrongly here. Please open an issue if you find any such cases.\n",
      "\n",
      "\n"
     ]
    }
   ],
   "source": [
    "from xgboost import XGBClassifier\n",
    "from sklearn.metrics import accuracy_score\n",
    "from sklearn.model_selection import GridSearchCV\n",
    "from sklearn.model_selection import RepeatedStratifiedKFold\n",
    "import time\n",
    "\n",
    "\n",
    "# bst_est = tree_classifier_cv.best_estimator_\n",
    "XGB = XGBClassifier(n_estimators = 500, learning_rate = 0.033111111111111113,\n",
    "                    objective = 'multi:softmax', num_class = 2, \n",
    "                    eval_metric = 'logloss', colsample_bytree = 0.5, \n",
    "                    colsample_bylevel = 0.7, booster = 'gbtree', \n",
    "                    reg_alpha = 5, reg_lambda = 0.1,\n",
    "                    max_depth = 11, scale_pos_weight = scale_pos_weight, \n",
    "                    num_parallel_tree = 5, gamma = 0.6, \n",
    "                    subsample = 0.8, min_child_weight = 13,\n",
    "                    sampling_method = 'gradient_based', grow_policy = 'lossguide', \n",
    "                    max_bin = 1024, tree_method = 'gpu_hist', random_state = 42)\n",
    "\n",
    "start = time.time()\n",
    "XGB.fit(X, y)\n",
    "end = time.time()"
   ]
  },
  {
   "cell_type": "code",
   "execution_count": 26,
   "id": "32592dd4",
   "metadata": {
    "execution": {
     "iopub.execute_input": "2023-01-09T19:09:31.286924Z",
     "iopub.status.busy": "2023-01-09T19:09:31.286608Z",
     "iopub.status.idle": "2023-01-09T19:17:15.027247Z",
     "shell.execute_reply": "2023-01-09T19:17:15.026142Z"
    },
    "papermill": {
     "duration": 463.75996,
     "end_time": "2023-01-09T19:17:15.030287",
     "exception": false,
     "start_time": "2023-01-09T19:09:31.270327",
     "status": "completed"
    },
    "tags": []
   },
   "outputs": [],
   "source": [
    "y_predicted_xgb = XGB.predict(test_df)\n",
    "submission1 = pd.DataFrame(y_predicted_xgb, columns=['class'], dtype = float)\n",
    "submission1.to_csv(path_or_buf='y_pre.csv', header=['class'], index_label='Id')"
   ]
  },
  {
   "cell_type": "markdown",
   "id": "e917508a",
   "metadata": {
    "papermill": {
     "duration": 0.014179,
     "end_time": "2023-01-09T19:17:15.059269",
     "exception": false,
     "start_time": "2023-01-09T19:17:15.045090",
     "status": "completed"
    },
    "tags": []
   },
   "source": [
    "**There are several reasons why XGBoost classifier may be a good choice for this dataset classification problem:**\n",
    "\n",
    "1. XGBoost is a powerful and efficient gradient boosting tree algorithm that has been widely used and proven to be effective in many real-world applications.\n",
    "\n",
    "2. XGBoost can handle large datasets efficiently and is well-suited for high-dimensional data with many features.\n",
    "\n",
    "3. XGBoost can handle missing values and categorical variables, making it a good choice for datasets with mixed data types.\n",
    "\n",
    "4. XGBoost has a number of hyperparameters that can be tuned to improve the model's performance, including learning rate, maximum depth, and regularization parameters.\n",
    "\n",
    "5. XGBoost is widely available and can be easily integrated into many machine learning pipelines.\n",
    "\n",
    "6. XGBoost is fast and scalable, allowing it to handle large datasets and perform well on distributed systems.\n",
    "\n",
    "7. XGBoost has a built-in cross-validation function, making it easy to evaluate the model's performance and optimize hyperparameters.\n",
    "\n",
    "8. XGBoost can handle imbalanced datasets, which is often the case in real-world classification problems.\n",
    "\n",
    "9. XGBoost has a number of built-in feature selection methods, making it easy to identify and select the most important features for the classification task.\n",
    "\n",
    "10. XGBoost has a wide range of evaluation metrics available, including accuracy, precision, recall, F1 score, and AUC, allowing you to choose the metric that is most appropriate for your classification problem."
   ]
  },
  {
   "cell_type": "markdown",
   "id": "6d3e9f92",
   "metadata": {
    "papermill": {
     "duration": 0.014011,
     "end_time": "2023-01-09T19:17:15.087484",
     "exception": false,
     "start_time": "2023-01-09T19:17:15.073473",
     "status": "completed"
    },
    "tags": []
   },
   "source": [
    "# I used the above model to get a prediction of 80.444 %."
   ]
  },
  {
   "cell_type": "code",
   "execution_count": null,
   "id": "cfb19546",
   "metadata": {
    "papermill": {
     "duration": 0.014207,
     "end_time": "2023-01-09T19:17:15.116062",
     "exception": false,
     "start_time": "2023-01-09T19:17:15.101855",
     "status": "completed"
    },
    "tags": []
   },
   "outputs": [],
   "source": []
  }
 ],
 "metadata": {
  "kernelspec": {
   "display_name": "Python 3",
   "language": "python",
   "name": "python3"
  },
  "language_info": {
   "codemirror_mode": {
    "name": "ipython",
    "version": 3
   },
   "file_extension": ".py",
   "mimetype": "text/x-python",
   "name": "python",
   "nbconvert_exporter": "python",
   "pygments_lexer": "ipython3",
   "version": "3.7.12"
  },
  "papermill": {
   "default_parameters": {},
   "duration": 1166.648297,
   "end_time": "2023-01-09T19:17:16.657136",
   "environment_variables": {},
   "exception": null,
   "input_path": "__notebook__.ipynb",
   "output_path": "__notebook__.ipynb",
   "parameters": {},
   "start_time": "2023-01-09T18:57:50.008839",
   "version": "2.3.4"
  }
 },
 "nbformat": 4,
 "nbformat_minor": 5
}
