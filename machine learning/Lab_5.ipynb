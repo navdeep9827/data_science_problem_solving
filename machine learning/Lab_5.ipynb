{
  "cells": [
    {
      "cell_type": "markdown",
      "metadata": {
        "id": "ExyLx0tv86bH"
      },
      "source": [
        "### Instructions:\n",
        "* You need to code in this jupyter notebook only.\n",
        "* Download this notebook and import in your jupyter lab.\n",
        "* You need to write a partial code for step 0 to step 8 mentioned with prefix ##\n",
        "* Fill the blanks where it is instructed in comments.\n",
        "* Leave other codes, structure as it is.\n",
        "* Follow all the instructions commented in a cells.\n",
        "* Upload this jupyter notebook after completion with your partial code.\n",
        "* Also upload the resulting image showing all the selected points and boundary line between them after LDA analysis."
      ]
    },
    {
      "cell_type": "code",
      "execution_count": 1,
      "metadata": {
        "id": "7D2fNCbm86bL"
      },
      "outputs": [],
      "source": [
        "import numpy as np ## import numpy\n",
        "import cv2## import opencv\n",
        "import matplotlib ## import matplotlib\n",
        "import matplotlib.pyplot as plt ## import matplotlib pyplot\n",
        "from sklearn.discriminant_analysis import LinearDiscriminantAnalysis ## from sklearn import LDA analysis\n",
        "matplotlib.use('TkAgg')\n",
        "\n",
        "##---------------------------------------------------\n",
        "## Step 0: Install all other dependencies that occue at run time if  any module not found.\n",
        "##---------------------------------------------------"
      ]
    },
    {
      "cell_type": "code",
      "execution_count": 2,
      "metadata": {
        "id": "hB2eaFO-86bM"
      },
      "outputs": [],
      "source": [
        "Number_of_points = 30 ## Number of points you want select from each strip. Recommended >= 20\n",
        "\n",
        "img = cv2.imread(r\"C:\\Users\\navde\\Downloads\\Indian_Flag.jpg\") ## Read the given image\n",
        "\n",
        "def select_points(img, title):\n",
        "    fig, ax = plt.subplots()\n",
        "    #------------------------------------------\n",
        "    ## step 1: Convert the img from BGR to RGB using cv2 and display it using plt.imshow\n",
        "    img_rgb = cv2.cvtColor(img, cv2.COLOR_BGR2RGB)\n",
        "    plt.imshow(img_rgb)\n",
        "    ## step 2: Put title of the image\n",
        "    plt.title(title)\n",
        "    ## step 2: Put title of the image\n",
        "    ##-----------------------------------------\n",
        "\n",
        "    # Set the cursor style to a plus sign\n",
        "    fig.canvas.manager.set_window_title('Select Points')\n",
        "    cursor = matplotlib.widgets.Cursor(ax, useblit=True, color='red', linewidth=1)\n",
        "    plt.show(block=False)  # Show the image without blocking\n",
        "\n",
        "    k = 0\n",
        "    data_points=[]## Create here an empty list to store points\n",
        "\n",
        "    while k < Number_of_points:\n",
        "        xy = plt.ginput(1, timeout=0)  # Non-blocking input\n",
        "        if len(xy) > 0:\n",
        "            col, row = map(int, xy[0])  # Convert to integer\n",
        "            ##-----------------------------------------------\n",
        "            ## Step 3: Collect RGB values at the clicked positions (col, row) and print it.\n",
        "            ##-----------------------------------------------\n",
        "\n",
        "            k += 1\n",
        "            data_points.append([row, col, img[row, col]])  # Store RGB values in empty list points.\n",
        "\n",
        "            # Display colored dot on the image\n",
        "            plt.scatter(col, row, c='black', marker='o', s=10)\n",
        "\n",
        "            # Redraw the image to include the dot\n",
        "            plt.draw()\n",
        "\n",
        "    plt.close()  # Close the window after all points are collected\n",
        "\n",
        "    return data_points ## Fill this blank\n",
        "\n",
        "\n"
      ]
    },
    {
      "cell_type": "code",
      "execution_count": 3,
      "metadata": {
        "id": "sHaejxBq86bM"
      },
      "outputs": [],
      "source": [
        "##-----------------------------------------------------------------\n",
        "## Step4: fill the blanks for Selected points from saffron strip\n",
        "pts_saffron = select_points(img,\"saffron\")\n",
        "# ## Step5: fill the blanks for Selected points from white strip)\n",
        "pts_white = select_points(img,\"white\")\n",
        "# # ## Step6: fill the blanks for Selected points from green strip\n",
        "pts_green = select_points(img,\"green\")\n",
        "##-----------------------------------------------------------------"
      ]
    },
    {
      "cell_type": "code",
      "execution_count": 4,
      "metadata": {
        "id": "_80F-YqI86bM"
      },
      "outputs": [],
      "source": [
        "# Convert RGB values to Lab color space\n",
        "def rgb_to_lab(rgb):\n",
        "    return cv2.cvtColor(np.uint8([[rgb]]), cv2.COLOR_RGB2Lab)[0][0]\n",
        "\n",
        "saffron_lab = np.array([rgb_to_lab(rgb) for _, _, rgb in pts_saffron])\n",
        "white_lab = np.array([rgb_to_lab(rgb) for _, _, rgb in pts_white])\n",
        "green_lab = np.array([rgb_to_lab(rgb) for _, _, rgb in pts_green])\n",
        "\n",
        "## Step7: Extract a* and b* components from Lab color space\n",
        "a_features = np.hstack((saffron_lab[:, 1], white_lab[:, 1], green_lab[:, 1]))\n",
        "b_features = np.hstack((saffron_lab[:, 2], white_lab[:, 2], green_lab[:, 2]))"
      ]
    },
    {
      "cell_type": "code",
      "execution_count": 5,
      "metadata": {
        "id": "Fwa7wmAU86bN"
      },
      "outputs": [
        {
          "data": {
            "text/html": [
              "<style>#sk-container-id-1 {color: black;}#sk-container-id-1 pre{padding: 0;}#sk-container-id-1 div.sk-toggleable {background-color: white;}#sk-container-id-1 label.sk-toggleable__label {cursor: pointer;display: block;width: 100%;margin-bottom: 0;padding: 0.3em;box-sizing: border-box;text-align: center;}#sk-container-id-1 label.sk-toggleable__label-arrow:before {content: \"▸\";float: left;margin-right: 0.25em;color: #696969;}#sk-container-id-1 label.sk-toggleable__label-arrow:hover:before {color: black;}#sk-container-id-1 div.sk-estimator:hover label.sk-toggleable__label-arrow:before {color: black;}#sk-container-id-1 div.sk-toggleable__content {max-height: 0;max-width: 0;overflow: hidden;text-align: left;background-color: #f0f8ff;}#sk-container-id-1 div.sk-toggleable__content pre {margin: 0.2em;color: black;border-radius: 0.25em;background-color: #f0f8ff;}#sk-container-id-1 input.sk-toggleable__control:checked~div.sk-toggleable__content {max-height: 200px;max-width: 100%;overflow: auto;}#sk-container-id-1 input.sk-toggleable__control:checked~label.sk-toggleable__label-arrow:before {content: \"▾\";}#sk-container-id-1 div.sk-estimator input.sk-toggleable__control:checked~label.sk-toggleable__label {background-color: #d4ebff;}#sk-container-id-1 div.sk-label input.sk-toggleable__control:checked~label.sk-toggleable__label {background-color: #d4ebff;}#sk-container-id-1 input.sk-hidden--visually {border: 0;clip: rect(1px 1px 1px 1px);clip: rect(1px, 1px, 1px, 1px);height: 1px;margin: -1px;overflow: hidden;padding: 0;position: absolute;width: 1px;}#sk-container-id-1 div.sk-estimator {font-family: monospace;background-color: #f0f8ff;border: 1px dotted black;border-radius: 0.25em;box-sizing: border-box;margin-bottom: 0.5em;}#sk-container-id-1 div.sk-estimator:hover {background-color: #d4ebff;}#sk-container-id-1 div.sk-parallel-item::after {content: \"\";width: 100%;border-bottom: 1px solid gray;flex-grow: 1;}#sk-container-id-1 div.sk-label:hover label.sk-toggleable__label {background-color: #d4ebff;}#sk-container-id-1 div.sk-serial::before {content: \"\";position: absolute;border-left: 1px solid gray;box-sizing: border-box;top: 0;bottom: 0;left: 50%;z-index: 0;}#sk-container-id-1 div.sk-serial {display: flex;flex-direction: column;align-items: center;background-color: white;padding-right: 0.2em;padding-left: 0.2em;position: relative;}#sk-container-id-1 div.sk-item {position: relative;z-index: 1;}#sk-container-id-1 div.sk-parallel {display: flex;align-items: stretch;justify-content: center;background-color: white;position: relative;}#sk-container-id-1 div.sk-item::before, #sk-container-id-1 div.sk-parallel-item::before {content: \"\";position: absolute;border-left: 1px solid gray;box-sizing: border-box;top: 0;bottom: 0;left: 50%;z-index: -1;}#sk-container-id-1 div.sk-parallel-item {display: flex;flex-direction: column;z-index: 1;position: relative;background-color: white;}#sk-container-id-1 div.sk-parallel-item:first-child::after {align-self: flex-end;width: 50%;}#sk-container-id-1 div.sk-parallel-item:last-child::after {align-self: flex-start;width: 50%;}#sk-container-id-1 div.sk-parallel-item:only-child::after {width: 0;}#sk-container-id-1 div.sk-dashed-wrapped {border: 1px dashed gray;margin: 0 0.4em 0.5em 0.4em;box-sizing: border-box;padding-bottom: 0.4em;background-color: white;}#sk-container-id-1 div.sk-label label {font-family: monospace;font-weight: bold;display: inline-block;line-height: 1.2em;}#sk-container-id-1 div.sk-label-container {text-align: center;}#sk-container-id-1 div.sk-container {/* jupyter's `normalize.less` sets `[hidden] { display: none; }` but bootstrap.min.css set `[hidden] { display: none !important; }` so we also need the `!important` here to be able to override the default hidden behavior on the sphinx rendered scikit-learn.org. See: https://github.com/scikit-learn/scikit-learn/issues/21755 */display: inline-block !important;position: relative;}#sk-container-id-1 div.sk-text-repr-fallback {display: none;}</style><div id=\"sk-container-id-1\" class=\"sk-top-container\"><div class=\"sk-text-repr-fallback\"><pre>LinearDiscriminantAnalysis()</pre><b>In a Jupyter environment, please rerun this cell to show the HTML representation or trust the notebook. <br />On GitHub, the HTML representation is unable to render, please try loading this page with nbviewer.org.</b></div><div class=\"sk-container\" hidden><div class=\"sk-item\"><div class=\"sk-estimator sk-toggleable\"><input class=\"sk-toggleable__control sk-hidden--visually\" id=\"sk-estimator-id-1\" type=\"checkbox\" checked><label for=\"sk-estimator-id-1\" class=\"sk-toggleable__label sk-toggleable__label-arrow\">LinearDiscriminantAnalysis</label><div class=\"sk-toggleable__content\"><pre>LinearDiscriminantAnalysis()</pre></div></div></div></div></div>"
            ],
            "text/plain": [
              "LinearDiscriminantAnalysis()"
            ]
          },
          "execution_count": 5,
          "metadata": {},
          "output_type": "execute_result"
        }
      ],
      "source": [
        "# Map class labels to numeric values\n",
        "class_mapping = {'Saffron': 0, 'White': 1, 'Green': 2}\n",
        "y = np.array([class_mapping[label] for label in ['Saffron'] * Number_of_points + ['White'] * Number_of_points + ['Green'] * Number_of_points])\n",
        "\n",
        "plt.figure()\n",
        "plt.scatter(a_features[:Number_of_points], b_features[:Number_of_points], c='b', marker='o', s=50, label='Saffron')\n",
        "plt.scatter(a_features[Number_of_points:2*Number_of_points], b_features[Number_of_points:2*Number_of_points], c='g', marker='^', s=50, label='White')\n",
        "plt.scatter(a_features[2*Number_of_points:], b_features[2*Number_of_points:], c='r', marker='*', s=50, label='Green')\n",
        "plt.legend(['Saffron', 'White', 'Green'], loc='best')\n",
        "plt.xlabel('A*')  ## Provide x label\n",
        "plt.ylabel('B*') ## Provide y label\n",
        "plt.title('scatter plot lab color space') ## Provide title\n",
        "plt.grid()\n",
        "plt.show()\n",
        "\n",
        "##------------------------------------------------------------\n",
        "# Step 8: Perform LDA analysis using LinearDiscriminantAnalysis() and lda.fit()\n",
        "X = np.column_stack((a_features, b_features))\n",
        "lda = LinearDiscriminantAnalysis()\n",
        "lda.fit(X, y)\n",
        "##-----------------------------------------------------------\n",
        "\n"
      ]
    },
    {
      "cell_type": "code",
      "execution_count": 10,
      "metadata": {
        "id": "V1xduOxi86bN"
      },
      "outputs": [],
      "source": [
        "# Plot LDA boundaries\n",
        "plt.figure()\n",
        "plt.scatter(a_features[:Number_of_points], b_features[:Number_of_points], c='b', marker='o', s=50, label='Saffron')\n",
        "plt.scatter(a_features[Number_of_points:2*Number_of_points], b_features[Number_of_points:2*Number_of_points], c='g', marker='^', s=50, label='White')\n",
        "plt.scatter(a_features[2*Number_of_points:], b_features[2*Number_of_points:], c='r', marker='*', s=50, label='Green')\n",
        "\n",
        "plt.xlabel(\"a*\")  ## Provide x label\n",
        "plt.ylabel('b*') ## Provide y label\n",
        "plt.title('LDA boundaries (linear model) for Colors of the Indian Flag')\n",
        "\n",
        "# Plot the decision boundaries\n",
        "ax = plt.gca()\n",
        "xlim = ax.get_xlim()\n",
        "ylim = ax.get_ylim()\n",
        "\n",
        "xx, yy = np.meshgrid(np.linspace(xlim[0], xlim[1], 100), np.linspace(ylim[0], ylim[1], 100))\n",
        "Z = lda.predict(np.c_[xx.ravel(), yy.ravel()])\n",
        "Z = Z.reshape(xx.shape)\n",
        "\n",
        "plt.contour(xx, yy, Z, colors='k', linewidths=2, linestyles='solid')\n",
        "plt.legend(loc='best')\n",
        "plt.grid()\n",
        "plt.show()"
      ]
    },
    {
      "cell_type": "code",
      "execution_count": null,
      "metadata": {},
      "outputs": [],
      "source": []
    }
  ],
  "metadata": {
    "colab": {
      "provenance": []
    },
    "kernelspec": {
      "display_name": "Python 3",
      "language": "python",
      "name": "python3"
    },
    "language_info": {
      "codemirror_mode": {
        "name": "ipython",
        "version": 3
      },
      "file_extension": ".py",
      "mimetype": "text/x-python",
      "name": "python",
      "nbconvert_exporter": "python",
      "pygments_lexer": "ipython3",
      "version": "3.11.6"
    },
    "orig_nbformat": 4
  },
  "nbformat": 4,
  "nbformat_minor": 0
}
