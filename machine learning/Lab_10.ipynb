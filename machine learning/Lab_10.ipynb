{
 "cells": [
  {
   "cell_type": "code",
   "execution_count": 2,
   "metadata": {},
   "outputs": [],
   "source": [
    "import pandas as pd\n",
    "import matplotlib.pyplot as plt\n",
    "import numpy as np\n",
    "from sklearn.neighbors import KNeighborsClassifier\n",
    "from sklearn.preprocessing import OneHotEncoder\n",
    "from sklearn.metrics import confusion_matrix, ConfusionMatrixDisplay, accuracy_score, precision_score, recall_score, f1_score\n",
    "from sklearn.preprocessing import LabelEncoder\n",
    "import warnings \n",
    "from sklearn.metrics import balanced_accuracy_score\n",
    "import numpy as np \n",
    "warnings.filterwarnings('ignore')"
   ]
  },
  {
   "cell_type": "code",
   "execution_count": 6,
   "metadata": {},
   "outputs": [],
   "source": [
    "df_test=pd.read_csv(r\"C:\\Users\\navde\\Downloads\\census_data_test.csv\")\n",
    "df_train=pd.read_csv(r\"C:\\Users\\navde\\Downloads\\census_data_train.csv\")"
   ]
  },
  {
   "cell_type": "code",
   "execution_count": 7,
   "metadata": {},
   "outputs": [],
   "source": [
    "df_train = df_train.iloc[:, :-2]\n",
    "df_test = df_test.iloc[:, :-2]"
   ]
  },
  {
   "cell_type": "code",
   "execution_count": 8,
   "metadata": {},
   "outputs": [],
   "source": [
    "df_train.replace('?', pd.NA, inplace=True)\n",
    "df_test.replace('?', pd.NA, inplace=True)\n",
    "\n",
    "df_train.dropna(inplace=True)\n",
    "df_test.dropna(inplace=True)"
   ]
  },
  {
   "cell_type": "code",
   "execution_count": 9,
   "metadata": {},
   "outputs": [],
   "source": [
    "df_train['native_country'] = df_train['native_country'].apply(lambda x: 'Non-US' if x != 'United-States' else x)\n",
    "df_test['native_country'] = df_test['native_country'].apply(lambda x: 'Non-US' if x != 'United-States' else x)"
   ]
  },
  {
   "cell_type": "code",
   "execution_count": 10,
   "metadata": {},
   "outputs": [],
   "source": [
    "y= df_test[\"income_bracket\"]\n",
    "z= df_train[\"income_bracket\"]\n",
    "\n",
    "\n",
    "df_test_target = (y== \">50K.\").astype(int)\n",
    "df_train_target= (z== \">50K\").astype(int)"
   ]
  },
  {
   "cell_type": "code",
   "execution_count": 11,
   "metadata": {},
   "outputs": [],
   "source": [
    "\n",
    "selected_columns = ['workclass', 'education_num', 'Age', 'relationship', 'native_country', 'occupation']\n",
    "\n",
    "\n",
    "df_train_feature = df_train[selected_columns]"
   ]
  },
  {
   "cell_type": "code",
   "execution_count": 12,
   "metadata": {},
   "outputs": [],
   "source": [
    "\n",
    "selected_columns = ['workclass', 'education_num', 'Age', 'relationship', 'native_country', 'occupation']\n",
    "\n",
    "\n",
    "df_test_feature = df_test[selected_columns]"
   ]
  },
  {
   "cell_type": "code",
   "execution_count": 13,
   "metadata": {},
   "outputs": [],
   "source": [
    "categorical_columns = ['workclass', 'relationship', 'native_country', 'occupation']\n",
    "\n",
    "for i in categorical_columns:\n",
    "    le=LabelEncoder()\n",
    "    df_train_feature[i]=le.fit_transform(df_train_feature[i])\n",
    "\n",
    "\n"
   ]
  },
  {
   "cell_type": "code",
   "execution_count": 14,
   "metadata": {},
   "outputs": [],
   "source": [
    "for i in categorical_columns:\n",
    "    le=LabelEncoder()\n",
    "    df_test_feature[i]=le.fit_transform(df_test_feature[i])"
   ]
  },
  {
   "cell_type": "markdown",
   "metadata": {},
   "source": [
    "## finding the best k value for knn model"
   ]
  },
  {
   "cell_type": "code",
   "execution_count": 15,
   "metadata": {},
   "outputs": [
    {
     "name": "stdout",
     "output_type": "stream",
     "text": [
      "Best k: 7\n",
      "Best Balanced Accuracy: 0.7153452131709174\n"
     ]
    }
   ],
   "source": [
    "best_k = None\n",
    "best_balanced_accuracy = 0\n",
    "\n",
    "# Try different values of k from 1 to 51\n",
    "for k in range(1, 52):\n",
    "    # Create k-NN classifier\n",
    "    knn = KNeighborsClassifier(n_neighbors=k)\n",
    "\n",
    "    # Fit the model\n",
    "    knn.fit(df_train_feature, df_train_target)\n",
    "\n",
    "    # Make predictions on the test set\n",
    "    y_pred = knn.predict(df_test_feature)\n",
    "\n",
    "    # Calculate balanced accuracy\n",
    "    current_balanced_accuracy = balanced_accuracy_score(df_test_target, y_pred)\n",
    "\n",
    "    # Update best k and balanced accuracy if the current one is better\n",
    "    if current_balanced_accuracy > best_balanced_accuracy:\n",
    "        best_k = k\n",
    "        best_balanced_accuracy = current_balanced_accuracy\n",
    "\n",
    "# Print the results\n",
    "print(f\"Best k: {best_k}\")\n",
    "print(f\"Best Balanced Accuracy: {best_balanced_accuracy}\")"
   ]
  },
  {
   "cell_type": "markdown",
   "metadata": {},
   "source": [
    "# After running svm model for most of the kernal and tunning hyperparameter i got below best configuration"
   ]
  },
  {
   "cell_type": "code",
   "execution_count": 42,
   "metadata": {},
   "outputs": [
    {
     "name": "stdout",
     "output_type": "stream",
     "text": [
      "Best Hyperparameters: {'C': 10, 'gamma': 0.1, 'kernel': 'rbf'}\n",
      "SVM Model - Balanced Accuracy: 0.7386084411876666\n"
     ]
    }
   ],
   "source": [
    "from sklearn.model_selection import GridSearchCV\n",
    "from sklearn.svm import SVC\n",
    "\n",
    "# Define the parameter grid\n",
    "param_grid = {'C': [10], 'kernel': ['rbf'], 'gamma': [0.1]}\n",
    "\n",
    "# Create an SVM model\n",
    "svm_model = SVC()\n",
    "\n",
    "# Use GridSearchCV to find the best hyperparameters\n",
    "grid_search = GridSearchCV(svm_model, param_grid, scoring='balanced_accuracy', cv=3)\n",
    "grid_search.fit(df_train_feature, df_train_target)\n",
    "\n",
    "# Get the best hyperparameters\n",
    "best_params = grid_search.best_params_\n",
    "print(\"Best Hyperparameters:\", best_params)\n",
    "\n",
    "# Use the best model for predictions\n",
    "best_svm_model = grid_search.best_estimator_\n",
    "svm_predictions = best_svm_model.predict(df_test_feature)\n",
    "# Calculate the balanced accuracy of the SVM model\n",
    "svm_balanced_accuracy = balanced_accuracy_score(df_test_target, svm_predictions)\n",
    "\n",
    "# Print the results of the SVM model\n",
    "print(f\"SVM Model - Balanced Accuracy: {svm_balanced_accuracy}\")"
   ]
  },
  {
   "cell_type": "markdown",
   "metadata": {},
   "source": [
    "## For Male we performed KNN and SVM"
   ]
  },
  {
   "cell_type": "code",
   "execution_count": 22,
   "metadata": {},
   "outputs": [],
   "source": [
    "# Filter rows with 'Male' in the gender column\n",
    "df_train_male= df_train[df_train['gender'] == 'Male']\n",
    "# Filter rows with 'Male' in the gender column\n",
    "df_test_male = df_test[df_test['gender'] == 'Male']"
   ]
  },
  {
   "cell_type": "code",
   "execution_count": 23,
   "metadata": {},
   "outputs": [],
   "source": [
    "selected_columns = ['workclass', 'education_num', 'Age', 'relationship', 'native_country', 'occupation']\n",
    "df_train_feature_male = df_train_male[selected_columns]"
   ]
  },
  {
   "cell_type": "code",
   "execution_count": 24,
   "metadata": {},
   "outputs": [],
   "source": [
    "df_test_feature_male = df_test_male[selected_columns]"
   ]
  },
  {
   "cell_type": "code",
   "execution_count": 25,
   "metadata": {},
   "outputs": [],
   "source": [
    "z= df_train_male[\"income_bracket\"]\n",
    "y= df_test_male[\"income_bracket\"]\n",
    "\n",
    "df_test_target_male= (y== \">50K.\").astype(int)\n",
    "df_train_target_male= (z== \">50K\").astype(int)"
   ]
  },
  {
   "cell_type": "code",
   "execution_count": 26,
   "metadata": {},
   "outputs": [],
   "source": [
    "categorical_columns = ['workclass', 'relationship', 'native_country', 'occupation']\n",
    "\n",
    "for i in categorical_columns:\n",
    "    le=LabelEncoder()\n",
    "    df_train_feature_male[i]=le.fit_transform(df_train_feature_male[i])"
   ]
  },
  {
   "cell_type": "code",
   "execution_count": 27,
   "metadata": {},
   "outputs": [],
   "source": [
    "for i in categorical_columns:\n",
    "    le=LabelEncoder()\n",
    "    df_test_feature_male[i]=le.fit_transform(df_test_feature_male[i])"
   ]
  },
  {
   "cell_type": "code",
   "execution_count": 28,
   "metadata": {},
   "outputs": [
    {
     "name": "stdout",
     "output_type": "stream",
     "text": [
      "Best k: 41\n",
      "Best Balanced Accuracy: 0.722873938859173\n"
     ]
    }
   ],
   "source": [
    "best_k = None\n",
    "best_balanced_accuracy = 0\n",
    "\n",
    "# Try different values of k from 1 to 51\n",
    "for k in range(1, 52):\n",
    "    # Create k-NN classifier\n",
    "    knn_male= KNeighborsClassifier(n_neighbors=k)\n",
    "\n",
    "    # Fit the model\n",
    "    knn_male.fit(df_train_feature_male, df_train_target_male)\n",
    "\n",
    "    # Make predictions on the test set\n",
    "    y_pred_male= knn_male.predict(df_test_feature_male)\n",
    "\n",
    "    # Calculate balanced accuracy\n",
    "    current_balanced_accuracy = balanced_accuracy_score(df_test_target_male, y_pred_male)\n",
    "\n",
    "    # Update best k and balanced accuracy if the current one is better\n",
    "    if current_balanced_accuracy > best_balanced_accuracy:\n",
    "        best_k = k\n",
    "        best_balanced_accuracy = current_balanced_accuracy\n",
    "\n",
    "# Print the results\n",
    "print(f\"Best k: {best_k}\")\n",
    "print(f\"Best Balanced Accuracy: {best_balanced_accuracy}\")"
   ]
  },
  {
   "cell_type": "code",
   "execution_count": 29,
   "metadata": {},
   "outputs": [
    {
     "name": "stdout",
     "output_type": "stream",
     "text": [
      "Best Hyperparameters: {'C': 10, 'gamma': 0.1, 'kernel': 'rbf'}\n",
      "SVM Model - Balanced Accuracy: 0.7322500410201489\n"
     ]
    }
   ],
   "source": [
    "from sklearn.model_selection import GridSearchCV\n",
    "from sklearn.svm import SVC\n",
    "\n",
    "# Define the parameter grid\n",
    "param_grid = {'C': [10], 'kernel': ['rbf'], 'gamma': [0.1]}\n",
    "\n",
    "# Create an SVM model\n",
    "svm_model = SVC()\n",
    "\n",
    "# Use GridSearchCV to find the best hyperparameters\n",
    "grid_search = GridSearchCV(svm_model, param_grid, scoring='balanced_accuracy', cv=3)\n",
    "grid_search.fit(df_train_feature_male, df_train_target_male)\n",
    "\n",
    "# Get the best hyperparameters\n",
    "best_params = grid_search.best_params_\n",
    "print(\"Best Hyperparameters:\", best_params)\n",
    "\n",
    "# Use the best model for predictions\n",
    "best_svm_model = grid_search.best_estimator_\n",
    "svm_predictions = best_svm_model.predict(df_test_feature_male)\n",
    "# Calculate the balanced accuracy of the SVM model\n",
    "svm_balanced_accuracy = balanced_accuracy_score(df_test_target_male, svm_predictions)\n",
    "\n",
    "# Print the results of the SVM model\n",
    "print(f\"SVM Model - Balanced Accuracy: {svm_balanced_accuracy}\")"
   ]
  },
  {
   "cell_type": "markdown",
   "metadata": {},
   "source": [
    "## For Female we performed KNN and SVM"
   ]
  },
  {
   "cell_type": "code",
   "execution_count": 30,
   "metadata": {},
   "outputs": [],
   "source": [
    "# Filter rows with 'Male' in the gender column\n",
    "df_train_female= df_train[df_train['gender'] == 'Female']\n",
    "# Filter rows with 'Male' in the gender column\n",
    "df_test_female = df_test[df_test['gender'] == 'Female']"
   ]
  },
  {
   "cell_type": "code",
   "execution_count": 31,
   "metadata": {},
   "outputs": [],
   "source": [
    "selected_columns = ['workclass', 'education_num', 'Age', 'relationship', 'native_country', 'occupation']\n",
    "df_train_feature_female = df_train_female[selected_columns]\n"
   ]
  },
  {
   "cell_type": "code",
   "execution_count": 32,
   "metadata": {},
   "outputs": [],
   "source": [
    "df_test_feature_female = df_test_female[selected_columns]"
   ]
  },
  {
   "cell_type": "code",
   "execution_count": 33,
   "metadata": {},
   "outputs": [],
   "source": [
    "a= df_train_female[\"income_bracket\"]\n",
    "b= df_test_female[\"income_bracket\"]\n",
    "\n",
    "df_test_target_female = (b== \">50K.\").astype(int)\n",
    "df_train_target_female= (a== \">50K\").astype(int)"
   ]
  },
  {
   "cell_type": "code",
   "execution_count": 34,
   "metadata": {},
   "outputs": [],
   "source": [
    "categorical_columns = ['workclass', 'relationship', 'native_country', 'occupation']\n",
    "\n",
    "for i in categorical_columns:\n",
    "    le=LabelEncoder()\n",
    "    df_train_feature_female[i]=le.fit_transform(df_train_feature_female[i])"
   ]
  },
  {
   "cell_type": "code",
   "execution_count": 35,
   "metadata": {},
   "outputs": [],
   "source": [
    "for i in categorical_columns:\n",
    "    le=LabelEncoder()\n",
    "    df_test_feature_female[i]=le.fit_transform(df_test_feature_female[i])"
   ]
  },
  {
   "cell_type": "code",
   "execution_count": 36,
   "metadata": {},
   "outputs": [
    {
     "name": "stdout",
     "output_type": "stream",
     "text": [
      "Best k: 1\n",
      "Best Balanced Accuracy: 0.5659739223473514\n"
     ]
    }
   ],
   "source": [
    "best_k_ = None\n",
    "best_balanced_accuracy_ = 0\n",
    "\n",
    "# Try different values of k from 1 to 51\n",
    "for k in range(1, 100):\n",
    "    # Create k-NN classifier\n",
    "    knn_female = KNeighborsClassifier(n_neighbors=k)\n",
    "\n",
    "    # Fit the model\n",
    "    knn_female.fit(df_train_feature_female, df_train_target_female)\n",
    "\n",
    "    # Make predictions on the test set\n",
    "    y_pred_female = knn_female.predict(df_test_feature_female)\n",
    "    # Calculate balanced accuracy\n",
    "    current_balanced_accuracy = balanced_accuracy_score(df_test_target_female, y_pred_female)\n",
    "    # Update best k and balanced accuracy if the current one is better\n",
    "    if current_balanced_accuracy > best_balanced_accuracy_:\n",
    "\n",
    "        best_k_= k\n",
    "        best_balanced_accuracy_= current_balanced_accuracy\n",
    "\n",
    "# Print the results\n",
    "print(f\"Best k: {best_k_}\")\n",
    "print(f\"Best Balanced Accuracy: {best_balanced_accuracy_}\")"
   ]
  },
  {
   "cell_type": "code",
   "execution_count": 37,
   "metadata": {},
   "outputs": [
    {
     "name": "stdout",
     "output_type": "stream",
     "text": [
      "Best Hyperparameters: {'C': 10, 'gamma': 0.1, 'kernel': 'rbf'}\n",
      "SVM Model - Balanced Accuracy: 0.534384979219319\n"
     ]
    }
   ],
   "source": [
    "from sklearn.model_selection import GridSearchCV\n",
    "from sklearn.svm import SVC\n",
    "\n",
    "# Define the parameter grid\n",
    "param_grid = {'C': [10], 'kernel': ['rbf'], 'gamma': [0.1]}\n",
    "\n",
    "# Create an SVM model\n",
    "svm_model = SVC()\n",
    "\n",
    "# Use GridSearchCV to find the best hyperparameters\n",
    "grid_search = GridSearchCV(svm_model, param_grid, scoring='balanced_accuracy', cv=3)\n",
    "grid_search.fit(df_train_feature_female, df_train_target_female)\n",
    "\n",
    "# Get the best hyperparameters\n",
    "best_params = grid_search.best_params_\n",
    "print(\"Best Hyperparameters:\", best_params)\n",
    "\n",
    "# Use the best model for predictions\n",
    "best_svm_model = grid_search.best_estimator_\n",
    "svm_predictions = best_svm_model.predict(df_test_feature_female)\n",
    "# Calculate the balanced accuracy of the SVM model\n",
    "svm_balanced_accuracy = balanced_accuracy_score(df_test_target_female, svm_predictions)\n",
    "\n",
    "# Print the results of the SVM model\n",
    "print(f\"SVM Model - Balanced Accuracy: {svm_balanced_accuracy}\")"
   ]
  },
  {
   "cell_type": "code",
   "execution_count": 38,
   "metadata": {},
   "outputs": [],
   "source": [
    "\n",
    "# Define a function to calculate Equal Opportunity Difference (EOD)\n",
    "def equal_opportunity_difference(y_true, y_pred, positive_label):\n",
    "    # Calculate confusion matrix\n",
    "    tn, fp, fn, tp = confusion_matrix(y_true, y_pred, labels=[0, 1]).ravel()\n",
    "    \n",
    "    # Calculate equal opportunity difference\n",
    "    eod = (tp / (tp + fn)) - (fp / (fp + tn))\n",
    "    \n",
    "    return eod\n",
    "\n",
    "# Define a function to calculate Average Absolute Odds Difference (AAOD)\n",
    "def average_abs_odds_difference(y_true, y_pred, positive_label):\n",
    "    # Calculate confusion matrix\n",
    "    tn, fp, fn, tp = confusion_matrix(y_true, y_pred, labels=[0, 1]).ravel()\n",
    "    \n",
    "    # Calculate average absolute odds difference\n",
    "    aaod = 0.5 * (\n",
    "        abs((tp / (tp + fn)) - (fp / (fp + tn))) +\n",
    "        abs((tn / (tn + fp)) - (fn / (fn + tp)))\n",
    "    )\n",
    "    \n",
    "    return aaod\n",
    "\n"
   ]
  },
  {
   "cell_type": "code",
   "execution_count": 39,
   "metadata": {},
   "outputs": [
    {
     "name": "stdout",
     "output_type": "stream",
     "text": [
      "EOD for Male: 0.44024118393870837\n",
      "EOD for Female: 0.01436265709156194\n",
      "AAOD for Male: 0.44024118393870837\n",
      "AAOD for Female: 0.014362657091561933\n"
     ]
    }
   ],
   "source": [
    "# Assuming you have predictions from two models: model_male and model_female\n",
    "y_pred_male = knn_male.predict(df_test_feature_male)\n",
    "y_pred_female = knn_female.predict(df_test_feature_female)\n",
    "\n",
    "# Assuming you have ground truth labels for both groups: y_true_male and y_true_female\n",
    "y_true_male = df_test_target_male\n",
    "y_true_female = df_test_target_female\n",
    "\n",
    "\n",
    "\n",
    "# Calculate fairness metrics for each group\n",
    "eod_male = equal_opportunity_difference(y_true_male, y_pred_male, positive_label=1)\n",
    "eod_female = equal_opportunity_difference(y_true_female, y_pred_female, positive_label=1)\n",
    "\n",
    "aaod_male = average_abs_odds_difference(y_true_male, y_pred_male, positive_label=1)\n",
    "aaod_female = average_abs_odds_difference(y_true_female, y_pred_female, positive_label=1)\n",
    "\n",
    "# Print the results\n",
    "print(f\"EOD for Male: {eod_male}\")\n",
    "print(f\"EOD for Female: {eod_female}\")\n",
    "print(f\"AAOD for Male: {aaod_male}\")\n",
    "print(f\"AAOD for Female: {aaod_female}\")"
   ]
  },
  {
   "cell_type": "code",
   "execution_count": 46,
   "metadata": {},
   "outputs": [
    {
     "name": "stdout",
     "output_type": "stream",
     "text": [
      "Fairness Metrics for k-NN Model:\n",
      "EOD: 0.3944428054815379\n",
      "AAOD: 0.3944428054815379\n",
      "\n",
      "Fairness Metrics for SVM Model:\n",
      "EOD: 0.4772168823753331\n",
      "AAOD: 0.4772168823753331\n"
     ]
    }
   ],
   "source": [
    "# Make predictions for both models on test data\n",
    "k=7\n",
    "y_pred_knn = knn.predict(df_test_feature)\n",
    "y_pred_svm = best_svm_model.predict(df_test_feature)\n",
    "\n",
    "# Calculate fairness metrics for k-NN model\n",
    "eod_knn = equal_opportunity_difference(df_test_target, y_pred_knn, positive_label=1)\n",
    "aaod_knn = average_abs_odds_difference(df_test_target, y_pred_knn, positive_label=1)\n",
    "\n",
    "# Calculate fairness metrics for SVM model\n",
    "eod_svm = equal_opportunity_difference(df_test_target, y_pred_svm, positive_label=1)\n",
    "aaod_svm = average_abs_odds_difference(df_test_target, y_pred_svm, positive_label=1)\n",
    "\n",
    "# Print the results for k-NN model\n",
    "print(\"Fairness Metrics for k-NN Model:\")\n",
    "print(f\"EOD: {eod_knn}\")\n",
    "print(f\"AAOD: {aaod_knn}\")\n",
    "\n",
    "# Print the results for SVM model\n",
    "print(\"\\nFairness Metrics for SVM Model:\")\n",
    "print(f\"EOD: {eod_svm}\")\n",
    "print(f\"AAOD: {aaod_svm}\")"
   ]
  },
  {
   "cell_type": "code",
   "execution_count": 16,
   "metadata": {},
   "outputs": [
    {
     "data": {
      "image/png": "[encoded data removed]",
      "text/plain": [
       "<Figure size 800x600 with 1 Axes>"
      ]
     },
     "metadata": {},
     "output_type": "display_data"
    }
   ],
   "source": [
    "import matplotlib.pyplot as plt\n",
    "import numpy as np\n",
    "\n",
    "# Fairness metrics for k-NN model\n",
    "eod_knn = 0.3944428054815379\n",
    "aaod_knn = 0.3944428054815379\n",
    "\n",
    "# Fairness metrics for SVM model\n",
    "eod_svm = 0.4772168823753331\n",
    "aaod_svm = 0.4772168823753331\n",
    "\n",
    "# Metrics and models\n",
    "metrics = ['EOD', 'AAOD']\n",
    "knn_values = [eod_knn, aaod_knn]\n",
    "svm_values = [eod_svm, aaod_svm]\n",
    "\n",
    "# Bar width\n",
    "bar_width = 0.20\n",
    "bar_distance = 0.15\n",
    "\n",
    "# Set up the figure and axis\n",
    "fig, ax = plt.subplots(figsize=(8, 6))\n",
    "\n",
    "# Plot bars for k-NN and SVM\n",
    "bar1 = ax.bar(np.arange(len(metrics)) - bar_width / 2, knn_values, bar_width, label='k-NN')\n",
    "bar2 = ax.bar(np.arange(len(metrics)) + bar_width / 2, svm_values, bar_width, label='SVM')\n",
    "\n",
    "ax.set_xticks(np.arange(len(metrics)))\n",
    "ax.set_xticklabels(metrics)\n",
    "ax.set_ylabel('Value')\n",
    "ax.set_title('Comparison of EOD and AAOD for k-NN and SVM Models')\n",
    "ax.legend()\n",
    "\n",
    "# Display the plot\n",
    "plt.show()\n"
   ]
  },
  {
   "cell_type": "markdown",
   "metadata": {},
   "source": [
    "## \n",
    "Based on the provided fairness scores, the k-NN model appears to have lower disparity in predicting the positive class across different groups compared to the SVM model. Both the Equal Opportunity Difference (EOD) and Average Absolute Odds Difference (AAOD) are lower for the k-NN model."
   ]
  },
  {
   "cell_type": "markdown",
   "metadata": {},
   "source": [
    "the k-NN model appears to be a more favorable choice due to its lower EOD and AAOD."
   ]
  },
  {
   "cell_type": "markdown",
   "metadata": {},
   "source": [
    "\n",
    "The real-world implications of deploying an unfair model can have significant consequences, especially when it comes to decision-making processes that impact individuals or groups\n",
    "\n",
    "Discrimination and Bias:\n",
    "\n",
    "An unfair model may lead to discriminatory outcomes, favoring one group over another. In the context dataset, this could mean biased predictions or decisions related to certain individuals or demographic groups."
   ]
  },
  {
   "cell_type": "markdown",
   "metadata": {},
   "source": []
  },
  {
   "cell_type": "markdown",
   "metadata": {},
   "source": []
  }
 ],
 "metadata": {
  "kernelspec": {
   "display_name": "Python 3 (ipykernel)",
   "language": "python",
   "name": "python3"
  },
  "language_info": {
   "codemirror_mode": {
    "name": "ipython",
    "version": 3
   },
   "file_extension": ".py",
   "mimetype": "text/x-python",
   "name": "python",
   "nbconvert_exporter": "python",
   "pygments_lexer": "ipython3",
   "version": "3.11.7"
  }
 },
 "nbformat": 4,
 "nbformat_minor": 2
}
