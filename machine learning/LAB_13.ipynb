{
  "nbformat": 4,
  "nbformat_minor": 0,
  "metadata": {
    "colab": {
      "provenance": []
    },
    "kernelspec": {
      "name": "python3",
      "display_name": "Python 3"
    },
    "language_info": {
      "name": "python"
    }
  },
  "cells": [
    {
      "cell_type": "code",
      "source": [
        "import numpy as np\n",
        "import matplotlib.pyplot as plt\n",
        "import tensorflow as tf\n",
        "from sklearn.metrics import mean_squared_error\n",
        "from tensorflow.keras.models import Sequential\n",
        "from tensorflow.keras.layers import Dense\n",
        "from sklearn.model_selection import train_test_split\n"
      ],
      "metadata": {
        "id": "QdUFIfC1m4m9"
      },
      "execution_count": 53,
      "outputs": []
    },
    {
      "cell_type": "code",
      "source": [
        "df = np.genfromtxt('/content/Fertility_Diagnosis.txt', delimiter=',')"
      ],
      "metadata": {
        "id": "HeyuIIu6fj1_"
      },
      "execution_count": 54,
      "outputs": []
    },
    {
      "cell_type": "code",
      "source": [
        "x = df[:, :-1]\n",
        "y = df[:, -1].reshape(-1,1)\n",
        "print(x.shape, y.shape, np.unique(y))\n",
        "\n",
        "x_train, x_test, y_train, y_test = train_test_split(x, y, test_size=0.2, random_state= 0)\n"
      ],
      "metadata": {
        "colab": {
          "base_uri": "https://localhost:8080/"
        },
        "id": "jVBxy6_2mViE",
        "outputId": "b3c22659-3325-4ea1-d26b-92e82f8e1fb5"
      },
      "execution_count": 55,
      "outputs": [
        {
          "output_type": "stream",
          "name": "stdout",
          "text": [
            "(100, 9) (100, 1) [0. 1.]\n"
          ]
        }
      ]
    },
    {
      "cell_type": "code",
      "source": [
        "input_size = x.shape[1]\n",
        "output_size = y.shape[1]"
      ],
      "metadata": {
        "id": "aJ0YhTs1mmFK"
      },
      "execution_count": 56,
      "outputs": []
    },
    {
      "cell_type": "code",
      "source": [
        "error_tolerance = 0.05\n",
        "learning_rate = 0.001\n",
        "\n",
        "training_errors = []\n",
        "testing_errors = []\n"
      ],
      "metadata": {
        "id": "v4Mr-0FynZ3c"
      },
      "execution_count": 57,
      "outputs": []
    },
    {
      "cell_type": "code",
      "source": [
        "for num_neurons in range(1, 10):\n",
        "    print(f\"Training with {num_neurons} neurons in hidden layer\")\n",
        "\n",
        "    weights_input_hidden_new = np.random.random((input_size, num_neurons))\n",
        "    weights_hidden_output_new = np.random.random((num_neurons, output_size))\n",
        "\n",
        "    for epoch in range(1, 1000001):\n",
        "        layer_input_new = x_train\n",
        "        layer_hidden_new = 1 / (1 + np.exp(-(np.dot(layer_input_new, weights_input_hidden_new))))\n",
        "        layer_output_new = 1 / (1 + np.exp(-(np.dot(layer_hidden_new, weights_hidden_output_new))))\n",
        "\n",
        "        error_new = y_train.reshape(-1, 1) - layer_output_new\n",
        "\n",
        "        # Derivative of sigmoid: sigmoid(x) * (1 - sigmoid(x))\n",
        "        layer_output_derivative_new = error_new * (layer_output_new * (1 - layer_output_new))\n",
        "        layer_hidden_error_new = layer_output_derivative_new.dot(weights_hidden_output_new.T)\n",
        "        layer_hidden_derivative_new = layer_hidden_error_new * (layer_hidden_new * (1 - layer_hidden_new))\n",
        "\n",
        "        # Update weights\n",
        "        weights_hidden_output_new += layer_hidden_new.T.dot(layer_output_derivative_new) * 0.001\n",
        "        weights_input_hidden_new += layer_input_new.T.dot(layer_hidden_derivative_new) * 0.001\n",
        "\n",
        "        if epoch % 100000 == 0:\n",
        "            print(f\"Epoch {epoch}, Corresponding Error: {np.mean(np.abs(error_new))}\")\n",
        "\n",
        "        if np.mean(np.abs(error_new)) < error_tolerance:\n",
        "            print(f\"Converged at epoch {epoch}, Error: {np.mean(np.abs(error_new))} \\n\")\n",
        "            break\n",
        "\n",
        "        if epoch == 1000000:\n",
        "            print(\"Model did not converge \\n\")\n",
        "\n",
        "    # Training results\n",
        "    layer_input_new = x_train\n",
        "    layer_hidden_new = 1 / (1 + np.exp(-(np.dot(layer_input_new, weights_input_hidden_new))))\n",
        "    layer_output_new = 1 / (1 + np.exp(-(np.dot(layer_hidden_new, weights_hidden_output_new))))\n",
        "\n",
        "    train_error_new = np.mean(np.square(y_train.reshape(-1, 1) - layer_output_new))\n",
        "    training_errors.append(train_error_new)\n",
        "    print(f\"Training Mean Squared Error: {train_error_new}\")\n",
        "\n",
        "    # Testing results\n",
        "    layer_input_new = x_test\n",
        "    layer_hidden_new = 1 / (1 + np.exp(-(np.dot(layer_input_new, weights_input_hidden_new))))\n",
        "    layer_output_new = 1 / (1 + np.exp(-(np.dot(layer_hidden_new, weights_hidden_output_new))))\n",
        "\n",
        "    test_error_new = np.mean(np.square(y_test.reshape(-1, 1) - layer_output_new))\n",
        "    testing_errors.append(test_error_new)\n",
        "    print(f\"Testing Mean Squared Error: {test_error_new}\")\n"
      ],
      "metadata": {
        "colab": {
          "base_uri": "https://localhost:8080/"
        },
        "id": "1onQWTPSnhk4",
        "outputId": "127d2774-ff31-47e5-b8a4-2764f81ec08d"
      },
      "execution_count": 58,
      "outputs": [
        {
          "output_type": "stream",
          "name": "stdout",
          "text": [
            "Training with 1 neurons in the hidden layer\n",
            "Epoch 100000, Corresponding Error: 0.1675926727817341\n",
            "Epoch 200000, Corresponding Error: 0.16589119596640614\n",
            "Epoch 300000, Corresponding Error: 0.1643946091793576\n",
            "Epoch 400000, Corresponding Error: 0.1632744379663421\n",
            "Epoch 500000, Corresponding Error: 0.16240084393899115\n",
            "Epoch 600000, Corresponding Error: 0.16169849438579972\n",
            "Epoch 700000, Corresponding Error: 0.16112063207138286\n",
            "Epoch 800000, Corresponding Error: 0.16063508743233154\n",
            "Epoch 900000, Corresponding Error: 0.160217750488757\n",
            "Epoch 1000000, Corresponding Error: 0.15984892722464875\n",
            "Model did not converge \n",
            "\n",
            "Training Mean Squared Error: 0.08151322511694374\n",
            "Testing Mean Squared Error: 0.07395011580472041\n",
            "Training with 2 neurons in the hidden layer\n",
            "Epoch 100000, Corresponding Error: 0.15299105819657877\n",
            "Epoch 200000, Corresponding Error: 0.11012240749618052\n",
            "Epoch 300000, Corresponding Error: 0.09029740528418936\n",
            "Epoch 400000, Corresponding Error: 0.08270426452499027\n",
            "Epoch 500000, Corresponding Error: 0.07552913149383594\n",
            "Epoch 600000, Corresponding Error: 0.0707927914488291\n",
            "Epoch 700000, Corresponding Error: 0.0678253990153074\n",
            "Epoch 800000, Corresponding Error: 0.06586559303360569\n",
            "Epoch 900000, Corresponding Error: 0.06452316875044938\n",
            "Epoch 1000000, Corresponding Error: 0.06360186365226636\n",
            "Model did not converge \n",
            "\n",
            "Training Mean Squared Error: 0.05066645619729199\n",
            "Testing Mean Squared Error: 0.05299330984682697\n",
            "Training with 3 neurons in the hidden layer\n",
            "Epoch 100000, Corresponding Error: 0.15069424995980796\n",
            "Epoch 200000, Corresponding Error: 0.1212680257099326\n",
            "Epoch 300000, Corresponding Error: 0.10492658527938584\n",
            "Epoch 400000, Corresponding Error: 0.09969554438820916\n",
            "Epoch 500000, Corresponding Error: 0.09613132055607154\n",
            "Epoch 600000, Corresponding Error: 0.09321036506045824\n",
            "Epoch 700000, Corresponding Error: 0.0906860884187729\n",
            "Epoch 800000, Corresponding Error: 0.08849030497784018\n",
            "Epoch 900000, Corresponding Error: 0.08655881247620982\n",
            "Epoch 1000000, Corresponding Error: 0.08482526423893041\n",
            "Model did not converge \n",
            "\n",
            "Training Mean Squared Error: 0.041862594014615825\n",
            "Testing Mean Squared Error: 0.24083178464816762\n",
            "Training with 4 neurons in the hidden layer\n",
            "Epoch 100000, Corresponding Error: 0.16006204631261686\n",
            "Epoch 200000, Corresponding Error: 0.12996351145563945\n",
            "Epoch 300000, Corresponding Error: 0.06997487011118261\n",
            "Epoch 400000, Corresponding Error: 0.05439924048257917\n",
            "Converged at epoch 462599, Error: 0.04999998079141797 \n",
            "\n",
            "Training Mean Squared Error: 0.015199750418213764\n",
            "Testing Mean Squared Error: 0.20300208254588936\n",
            "Training with 5 neurons in the hidden layer\n",
            "Epoch 100000, Corresponding Error: 0.10927026975194587\n",
            "Epoch 200000, Corresponding Error: 0.08571896257565767\n",
            "Epoch 300000, Corresponding Error: 0.07261050298176508\n",
            "Epoch 400000, Corresponding Error: 0.0648215870190648\n",
            "Epoch 500000, Corresponding Error: 0.06116657986964783\n",
            "Epoch 600000, Corresponding Error: 0.059107949515026924\n",
            "Epoch 700000, Corresponding Error: 0.057762005107148184\n",
            "Epoch 800000, Corresponding Error: 0.05680839844027434\n",
            "Epoch 900000, Corresponding Error: 0.05609682171116133\n",
            "Epoch 1000000, Corresponding Error: 0.05554518237682582\n",
            "Model did not converge \n",
            "\n",
            "Training Mean Squared Error: 0.043998210523282635\n",
            "Testing Mean Squared Error: 0.2112069372096595\n",
            "Training with 6 neurons in the hidden layer\n",
            "Epoch 100000, Corresponding Error: 0.1081281582333637\n",
            "Epoch 200000, Corresponding Error: 0.07884170415498522\n",
            "Epoch 300000, Corresponding Error: 0.06814696807038594\n",
            "Epoch 400000, Corresponding Error: 0.06287601892772536\n",
            "Epoch 500000, Corresponding Error: 0.060015742168357235\n",
            "Epoch 600000, Corresponding Error: 0.05827591303799277\n",
            "Epoch 700000, Corresponding Error: 0.057115896986434066\n",
            "Epoch 800000, Corresponding Error: 0.056286969713921275\n",
            "Epoch 900000, Corresponding Error: 0.05566337029455665\n",
            "Epoch 1000000, Corresponding Error: 0.05517568731332669\n",
            "Model did not converge \n",
            "\n",
            "Training Mean Squared Error: 0.04395557446391099\n",
            "Testing Mean Squared Error: 0.2205839872115138\n",
            "Training with 7 neurons in the hidden layer\n",
            "Epoch 100000, Corresponding Error: 0.11164126245792401\n",
            "Epoch 200000, Corresponding Error: 0.08346892547764927\n",
            "Epoch 300000, Corresponding Error: 0.06969931324146447\n",
            "Epoch 400000, Corresponding Error: 0.06425884662910157\n",
            "Epoch 500000, Corresponding Error: 0.06119592813863517\n",
            "Epoch 600000, Corresponding Error: 0.05924501321632049\n",
            "Epoch 700000, Corresponding Error: 0.05791114052176505\n",
            "Epoch 800000, Corresponding Error: 0.056948724367628004\n",
            "Epoch 900000, Corresponding Error: 0.05622381443170231\n",
            "Epoch 1000000, Corresponding Error: 0.05565856058378926\n",
            "Model did not converge \n",
            "\n",
            "Training Mean Squared Error: 0.04402499323455501\n",
            "Testing Mean Squared Error: 0.19275166117929912\n",
            "Training with 8 neurons in the hidden layer\n",
            "Epoch 100000, Corresponding Error: 0.10110131772219644\n",
            "Epoch 300000, Corresponding Error: 0.0641368875875181\n",
            "Epoch 400000, Corresponding Error: 0.05679700014461696\n",
            "Epoch 500000, Corresponding Error: 0.05203868592891138\n",
            "Converged at epoch 565911, Error: 0.049999989247750426 \n",
            "\n",
            "Training Mean Squared Error: 0.03853363818501593\n",
            "Testing Mean Squared Error: 0.20695081416106093\n",
            "Training with 9 neurons in the hidden layer\n",
            "Epoch 100000, Corresponding Error: 0.1204811366205237\n",
            "Epoch 200000, Corresponding Error: 0.06631342891115667\n",
            "Epoch 300000, Corresponding Error: 0.051719535811801956\n",
            "Converged at epoch 318573, Error: 0.04999997710740796 \n",
            "\n",
            "Training Mean Squared Error: 0.02834824296399847\n",
            "Testing Mean Squared Error: 0.17700586685492317\n"
          ]
        }
      ]
    },
    {
      "cell_type": "code",
      "source": [
        "# Plot\n",
        "plt.plot(range(1, 10), training_errors, label='Training Error')\n",
        "plt.plot(range(1, 10), testing_errors, label='Testing Error')\n",
        "plt.xlabel('Number of Neurons in hidden layer')\n",
        "plt.ylabel('Mean Squared Error')\n",
        "plt.title('Neural Network Performance with a Single Hidden Layer')\n",
        "plt.legend()\n",
        "plt.grid()\n",
        "plt.show()"
      ],
      "metadata": {
        "colab": {
          "base_uri": "https://localhost:8080/",
          "height": 472
        },
        "id": "WALa_yEDvhug",
        "outputId": "41103a22-255b-45e6-b36d-1bdb79859a51"
      },
      "execution_count": 59,
      "outputs": [
        {
          "output_type": "display_data",
          "data": {
            "text/plain": [
              "<Figure size 640x480 with 1 Axes>"
            ],
            "image/png": "[encoded data removed]"
          },
          "metadata": {}
        }
      ]
    },
    {
      "cell_type": "code",
      "source": [],
      "metadata": {
        "id": "e_u4Krvgxg_T"
      },
      "execution_count": null,
      "outputs": []
    }
  ]
}